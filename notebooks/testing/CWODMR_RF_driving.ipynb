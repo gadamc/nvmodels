{
 "cells": [
  {
   "cell_type": "markdown",
   "id": "a9876a35",
   "metadata": {},
   "source": [
    "|0> - the electronic ground state with ms=0\n",
    "|1> - electronic ground state with ms =+-1\n",
    "|2> - electronic excited state with ms=0\n",
    "|3> - electronic excited state with ms=+-1\n",
    "|4> - inter system crossing state\n",
    "\n",
    "\n",
    "    % % %  % Energy level diagram % % % % \n",
    "    %                         ----- |e, ms=+-1;   3> % \n",
    "    %                                   % \n",
    "    %                                   % \n",
    "    % ----- |e, ms=0; 2>                         % \n",
    "    %                                   %\n",
    "    %                                   %\n",
    "    %             ------ |i.s. 4>            % \n",
    "    %                                   %\n",
    "    %                                   %\n",
    "    %                         ----- |g, ms=+-1, 1> %\n",
    "    %                                   %\n",
    "    % ----- |g, ms=0; 0>                         %\n",
    "    % % % % % % % % % % % % % % % % % % %\n",
    "    "
   ]
  },
  {
   "cell_type": "raw",
   "id": "2ff51f55",
   "metadata": {},
   "source": [
    "function [dB, contrast, linewidth, count_rate] = five_level_cw_odmr(pump_rate, WR, plot_or_not)\n",
    "    % Modeling 5 level N-V ODMR\n",
    "    \n",
    "    % INPUT VARIABLES:\n",
    "    % - pump_rate   = optical pump rate (try 1/320000) in 1/ns\n",
    "    % - WR          = rabi frequency (try 1/100*2*pi*1/3000) in 1/ns\n",
    "    % - plot_or_not = 1 for plotting the ODMR curve, 0 for not\n",
    "    \n",
    "    % OUTPUT VARIABLES:\n",
    "    % - dB          = minumum detectable field by ODMR curve produced by simulation (related to sensitivity) \n",
    "    % - contrast    = optical contrast of simulated ODMR curve\n",
    "    % - linewidth   = full width half max of simulated ODMR curve\n",
    "    % - count_rate  = photon count rate from a 1 um^2 box (artificially put in to the simulation)\n",
    "    \n",
    "    % % %  % Energy level diagram % % % % \n",
    "    %                         ----- |3> % \n",
    "    %                                   % \n",
    "    %                                   % \n",
    "    % ----- |2>                         % \n",
    "    %                                   %\n",
    "    %                                   %\n",
    "    %             ------ |4>            % \n",
    "    %                                   %\n",
    "    %                                   %\n",
    "    %                         ----- |1> %\n",
    "    %                                   %\n",
    "    % ----- |0>                         %\n",
    "    % % % % % % % % % % % % % % % % % % %\n",
    "    \n",
    "    % constants \n",
    "    hbar        = 1;\n",
    "    G10         = 0;%3*10^-5    % population decay from |1> to |0> %T1 ranges from 3 microseconds to 4 ms according to Eisuke's measurements on the E1304 sample\n",
    "    G01         = 0;            % population fluctuation from |0> to |1> (G01 = G10 e^(-dE/kbT))\n",
    "    G20         = 1/12;         % population decay from |2> to |0> (12 ns (from light narrowing paper))\n",
    "    P02         = pump_rate;    % 10*G20; % |0> to |2> pump rate, proportional to optical power\n",
    "    P13         = P02;          % |1> to |3> pump rate, proportional to optical power\n",
    "    G31         = G20;          % population decay from |3> to |1>\n",
    "    G34         = G20;          % population decay from |3> to |4>  (Light narrowing paper says G34 = G31 = G20.)\n",
    "    G40         = 1/300;        % population decay from |4> to |0> (300 ns)\n",
    "    t2star      = 3000 ;\n",
    "    gamma       = 1/t2star;       % dephasing rate (1/T2* process) (3000 ns from Kento's paper)\n",
    "    Hgub        = 0.036;        % T/GHz planck/(g factor * bohr magneton)\n",
    "        \n",
    "    photon_scale_constant = 5*10^6;\n",
    "    num_detunings = 1E3;\n",
    "    \n",
    "    % initialize arrays\n",
    "    detunings = linspace(-gamma*10, gamma*10, num_detunings)';\n",
    "    PLvector = 0 * detunings;\n",
    "\n",
    "    % loop through detunings, get steady state emitted PL at each value \n",
    "    for i = 1:num_detunings\n",
    "        d = detunings(i);\n",
    "        % rate equations formed by (i/hbar)[H0,rho] + L(rho)\n",
    "        M = [-P02-G01           -(1i/hbar)*WR/2         (1i/hbar)*WR/2             G10         G20      0     G40; \n",
    "            -(1i/hbar)*WR/2    -gamma+(1i/hbar)*d               0             (1i/hbar)*WR/2   0        0      0;\n",
    "            (1i/hbar)*WR/2              0            -gamma-(1i/hbar)*d      -(1i/hbar)*WR/2   0        0      0; \n",
    "            G01                  (1i/hbar)*WR/2        -(1i/hbar)*WR/2          -P13-G10       0       G31     0; \n",
    "            P02                         0                       0                   0        -G20       0      0; \n",
    "            0                           0                       0                  P13         0     -G34-G31  0;\n",
    "            1                           0                       0                   1          1        1      1];\n",
    "​\n",
    "        % steady state vector\n",
    "        steadystate = [0,0,0,0,0,0,1]';\n",
    "​\n",
    "        % solve for rho when drhodt == 0\n",
    "        rho = M\\steadystate; % M\\b gives inverse(M) * b\n",
    "​\n",
    "        % PL intensity\n",
    "        PL = (real(G20*rho(5) + G31*rho(6))); \n",
    "​\n",
    "        % append to vectors for plotting\n",
    "        detunings(i) = d;\n",
    "        PLvector(i) = PL;\n",
    "    end\n",
    "​\n",
    "    % normalize PL\n",
    "    normPL = PLvector/max(PLvector);\n",
    "    \n",
    "    if plot_or_not\n",
    "        h = figure;\n",
    "        scatter(detunings*10^3, normPL);\n",
    "        hold on\n",
    "        xlabel('MW frequency (MHz)');\n",
    "        ylabel('Normalized fluorescence');\n",
    "    end\n",
    "    \n",
    "​\n",
    "    a = 1;\n",
    "    g = WR;\n",
    "    b = pi*g*(max(normPL) - min(normPL));\n",
    "    x0 = 0;\n",
    "    guess = [a b g x0];\n",
    "    [final_fit, ~, fit_delta, params] = lorentz_fitter(guess, detunings, normPL, 1E4);\n",
    "    \n",
    "    linewidth = params(3) * 2;\n",
    "    contrast = (max(final_fit) - min(final_fit));\n",
    "    \n",
    "    if plot_or_not\n",
    "        plot(fit_delta*10^3, final_fit, 'r')\n",
    "        hold on\n",
    "        title(['T2* = ' num2str(t2star) ' ns'])\n",
    "    end\n",
    "    count_rate = photon_scale_constant * pump_rate;\n",
    "    \n",
    "    % calculate sensitivity\n",
    "    dB = Hgub * linewidth / (contrast * sqrt(count_rate));\n",
    "end\n",
    "​\n",
    "function [final_fit, initial_fit, fit_x, params] = lorentz_fitter(guess, x, y, samples)\n",
    "   \n",
    "    fit_x      = linspace(x(1), x(end), samples);\n",
    "    \n",
    "    lorentzian = @(a,b,g,x0,x) a-b*(g^2./((x-x0).^2+g^2));\n",
    "                       \n",
    "    lorentzian_fit = fit(x,y,lorentzian,'StartPoint',guess, 'Upper', [1.1 0.1 0.001 max(x(:))], 'Lower', [min(y(:)) 1E-6 1E-6 min(x(:))]);               \n",
    "                        \n",
    "    params(1) = lorentzian_fit.a; % y offset\n",
    "    params(2) = lorentzian_fit.b; % \n",
    "    params(3) = lorentzian_fit.g; % \n",
    "    params(4) = lorentzian_fit.x0; % \n",
    "​\n",
    "    \n",
    "    final_fit = lorentzian(params(1),params(2),params(3),params(4),fit_x);\n",
    "    initial_fit = lorentzian(guess(1),guess(2),guess(3),guess(4),fit_x);\n",
    "    \n",
    "end"
   ]
  },
  {
   "cell_type": "code",
   "execution_count": 1,
   "id": "f885eb32",
   "metadata": {},
   "outputs": [],
   "source": [
    "import numpy as np"
   ]
  },
  {
   "cell_type": "code",
   "execution_count": 135,
   "id": "51279f65",
   "metadata": {},
   "outputs": [],
   "source": [
    "pump_rate = 1/32000000\n",
    "WR = 1/100 *1/3000 # rabi frequency\n",
    "plot_or_not = False"
   ]
  },
  {
   "cell_type": "code",
   "execution_count": 136,
   "id": "d41161b2",
   "metadata": {},
   "outputs": [
    {
     "data": {
      "text/plain": [
       "3.3333333333333333e-06"
      ]
     },
     "execution_count": 136,
     "metadata": {},
     "output_type": "execute_result"
    }
   ],
   "source": [
    "WR"
   ]
  },
  {
   "cell_type": "code",
   "execution_count": 137,
   "id": "003b4a53",
   "metadata": {},
   "outputs": [],
   "source": [
    "hbar        = 1./(2*np.pi)\n",
    "G10         = 1./3000000  # population decay from |1> to |0> %T1 ranges from 3 microseconds to 4 ms according to Eisuke's measurements on the E1304 sample\n",
    "G01         = G10*np.exp(-2.87e9*4.13e-15/0.25e-3)            # population fluctuation from |0> to |1> (G01 = G10 e^(-dE/kbT))\n",
    "G20         = 1./12         # population decay from |2> to |0> (12 ns (from light narrowing paper))\n",
    "P02         = pump_rate    # 10*G20; % |0> to |2> pump rate, proportional to optical power\n",
    "P13         = P02          # |1> to |3> pump rate, proportional to optical power\n",
    "G31         = G20          # population decay from |3> to |1>\n",
    "G34         = G20          # population decay from |3> to |4>  (Light narrowing paper says G34 = G31 = G20.)\n",
    "G40         = 1./300        # population decay from |4> to |0> (300 ns)\n",
    "t2star      = 3000\n",
    "gamma       = 1./t2star     #  # dephasing rate (1/T2* process) (3000 ns from Kento's paper)\n",
    "Hgub        = 0.036        # T/GHz planck/(g factor * bohr magneton)\n",
    "\n",
    "photon_scale_constant = 5e6\n",
    "num_detunings = 1E3\n",
    "\n",
    "# initialize arrays\n",
    "detunings = np.linspace(-gamma*10, gamma*10, int(num_detunings))"
   ]
  },
  {
   "cell_type": "code",
   "execution_count": 138,
   "id": "edbf8aa6",
   "metadata": {},
   "outputs": [
    {
     "data": {
      "text/plain": [
       "3.125e-08"
      ]
     },
     "execution_count": 138,
     "metadata": {},
     "output_type": "execute_result"
    }
   ],
   "source": [
    "P02"
   ]
  },
  {
   "cell_type": "code",
   "execution_count": 139,
   "id": "d503826f",
   "metadata": {},
   "outputs": [],
   "source": [
    "def M(d, gamma=gamma, rabi=WR):\n",
    "    M = [[-P02-G01       ,    -(1j/hbar)*rabi/2    ,     (1j/hbar)*rabi/2     , G10    ,     G20  ,    0   ,  G40],\n",
    "            [-(1j/hbar)*rabi/2  ,  -gamma+(1j/hbar)*d    ,   0   ,      (1j/hbar)*rabi/2 ,  0    ,    0   ,   0],\n",
    "            [(1j/hbar)*rabi/2      ,        0      ,      -gamma-(1j/hbar)*d   ,   -(1j/hbar)*rabi/2 ,  0 ,  0   ,   0], \n",
    "            [G01          ,        (1j/hbar)*rabi/2     ,   -(1j/hbar)*rabi/2      ,    -P13-G10   ,    0 ,   G31  ,   0], \n",
    "            [P02           ,              0  , 0  , 0  ,  -G20 ,   0   ,   0], \n",
    "            [0              ,             0                      , 0  , P13   , 0    , -G34-G31 , 0],\n",
    "            [1                 , 0            ,     0           ,   1    ,  1   ,  1    ,1]]\n",
    "    return np.array(M)"
   ]
  },
  {
   "cell_type": "code",
   "execution_count": 140,
   "id": "519a5e20",
   "metadata": {},
   "outputs": [],
   "source": [
    "def compute_pl(dt):\n",
    "    steadystate = np.array([0,0,0,0,0,0,1]).reshape(-1,1)\n",
    "    rho = np.linalg.inv(M(dt)).dot(steadystate)\n",
    "    PL = np.real(G20*rho[5] + G31*rho[6])\n",
    "    return PL"
   ]
  },
  {
   "cell_type": "code",
   "execution_count": 141,
   "id": "c18d2302",
   "metadata": {},
   "outputs": [],
   "source": [
    "PL = np.array([compute_pl(dt) for dt in detunings])"
   ]
  },
  {
   "cell_type": "code",
   "execution_count": 142,
   "id": "8be3abd9",
   "metadata": {},
   "outputs": [],
   "source": [
    "PL = PL/PL.max()"
   ]
  },
  {
   "cell_type": "code",
   "execution_count": 143,
   "id": "1cacd652",
   "metadata": {},
   "outputs": [],
   "source": [
    "import matplotlib.pyplot as plt"
   ]
  },
  {
   "cell_type": "code",
   "execution_count": 144,
   "id": "b3267ab1",
   "metadata": {},
   "outputs": [
    {
     "data": {
      "text/plain": [
       "<matplotlib.collections.PathCollection at 0x7fb0bf143220>"
      ]
     },
     "execution_count": 144,
     "metadata": {},
     "output_type": "execute_result"
    },
    {
     "data": {
      "image/png": "[encoded data removed]",
      "text/plain": [
       "<Figure size 640x480 with 1 Axes>"
      ]
     },
     "metadata": {},
     "output_type": "display_data"
    }
   ],
   "source": [
    "plt.scatter(detunings, PL[:,0])"
   ]
  },
  {
   "cell_type": "code",
   "execution_count": 145,
   "id": "7a1e6149",
   "metadata": {},
   "outputs": [],
   "source": [
    "from scipy import optimize\n",
    "from scipy.optimize import leastsq\n",
    "import scipy \n",
    "import nvmodels"
   ]
  },
  {
   "cell_type": "code",
   "execution_count": 146,
   "id": "8f147259",
   "metadata": {},
   "outputs": [],
   "source": [
    "def lorentz_plus_floor(x, center, amplitude, width, floor):\n",
    "    return floor + nvmodels.utilities.lorentzian(x, center, amplitude, width)"
   ]
  },
  {
   "cell_type": "code",
   "execution_count": 147,
   "id": "b059d39d",
   "metadata": {},
   "outputs": [
    {
     "name": "stderr",
     "output_type": "stream",
     "text": [
      "/Users/adam/miniconda3/envs/nvmodels/lib/python3.10/site-packages/scipy/optimize/_minpack_py.py:906: OptimizeWarning: Covariance of the parameters could not be estimated\n",
      "  warnings.warn('Covariance of the parameters could not be estimated',\n"
     ]
    }
   ],
   "source": [
    "p_opt, p_cov = scipy.optimize.curve_fit(lorentz_plus_floor, detunings, PL[:,0], p0=[0,1,.001, 0.5])"
   ]
  },
  {
   "cell_type": "code",
   "execution_count": 148,
   "id": "de1cc591",
   "metadata": {},
   "outputs": [
    {
     "data": {
      "text/plain": [
       "[<matplotlib.lines.Line2D at 0x7fb0bdd4e740>]"
      ]
     },
     "execution_count": 148,
     "metadata": {},
     "output_type": "execute_result"
    },
    {
     "data": {
      "image/png": "[encoded data removed]",
      "text/plain": [
       "<Figure size 640x480 with 1 Axes>"
      ]
     },
     "metadata": {},
     "output_type": "display_data"
    }
   ],
   "source": [
    "plt.scatter(detunings, PL[:,0])\n",
    "plt.plot(detunings, lorentz_plus_floor(detunings, *p_opt), 'k--', label='Fit')"
   ]
  },
  {
   "cell_type": "code",
   "execution_count": 149,
   "id": "5cc5fd88",
   "metadata": {},
   "outputs": [
    {
     "data": {
      "text/plain": [
       "array([2.65344188e-13, 3.14055751e-02, 9.14792508e-05, 9.68636151e-01])"
      ]
     },
     "execution_count": 149,
     "metadata": {},
     "output_type": "execute_result"
    }
   ],
   "source": [
    "p_opt"
   ]
  },
  {
   "cell_type": "code",
   "execution_count": 150,
   "id": "b9703d4b",
   "metadata": {},
   "outputs": [
    {
     "data": {
      "text/plain": [
       "0.03134021311210555"
      ]
     },
     "execution_count": 150,
     "metadata": {},
     "output_type": "execute_result"
    }
   ],
   "source": [
    "np.max(lorentz_plus_floor(detunings, *p_opt)) - np.min(lorentz_plus_floor(detunings, *p_opt))"
   ]
  },
  {
   "cell_type": "code",
   "execution_count": null,
   "id": "24401d72",
   "metadata": {},
   "outputs": [],
   "source": [
    "# notice that as the pump rate get's smaller (1/large number), the contrast above gets smaller\n",
    "# which makes sense"
   ]
  }
 ],
 "metadata": {
  "kernelspec": {
   "display_name": "Python 3 (ipykernel)",
   "language": "python",
   "name": "python3"
  },
  "language_info": {
   "codemirror_mode": {
    "name": "ipython",
    "version": 3
   },
   "file_extension": ".py",
   "mimetype": "text/x-python",
   "name": "python",
   "nbconvert_exporter": "python",
   "pygments_lexer": "ipython3",
   "version": "3.10.9"
  }
 },
 "nbformat": 4,
 "nbformat_minor": 5
}
