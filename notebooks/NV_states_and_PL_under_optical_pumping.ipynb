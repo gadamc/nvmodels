{
 "cells": [
  {
   "cell_type": "markdown",
   "id": "f9d968c4-0f4b-4a95-9e0c-b805cf3242b0",
   "metadata": {},
   "source": [
    "# State Population and PL contrast\n",
    "\n",
    "The evolution of the state of a NV- center is computed under optical pumping. \n"
   ]
  },
  {
   "cell_type": "code",
   "execution_count": 1,
   "id": "70961cd3",
   "metadata": {
    "tags": []
   },
   "outputs": [],
   "source": [
    "%load_ext autoreload\n",
    "%autoreload 2"
   ]
  },
  {
   "cell_type": "code",
   "execution_count": 489,
   "id": "2cffca5f",
   "metadata": {},
   "outputs": [],
   "source": [
    "import itertools"
   ]
  },
  {
   "cell_type": "code",
   "execution_count": 2,
   "id": "50e44d4b",
   "metadata": {
    "tags": []
   },
   "outputs": [],
   "source": [
    "import qutip"
   ]
  },
  {
   "cell_type": "code",
   "execution_count": 3,
   "id": "6e37e73a",
   "metadata": {
    "tags": []
   },
   "outputs": [],
   "source": [
    "import nvmodels\n",
    "import numpy as np\n",
    "import scipy.constants"
   ]
  },
  {
   "cell_type": "code",
   "execution_count": 4,
   "id": "b0481c2a",
   "metadata": {
    "tags": []
   },
   "outputs": [],
   "source": [
    "import matplotlib.pyplot as plt"
   ]
  },
  {
   "cell_type": "code",
   "execution_count": 7,
   "id": "38ee758c",
   "metadata": {},
   "outputs": [
    {
     "data": {
      "text/plain": [
       "'0.0.1.dev1'"
      ]
     },
     "execution_count": 7,
     "metadata": {},
     "output_type": "execute_result"
    }
   ],
   "source": [
    "nvmodels.__version__"
   ]
  },
  {
   "cell_type": "markdown",
   "id": "81d370bb",
   "metadata": {},
   "source": [
    "# Build Hamiltonian\n",
    "\n",
    "For this demonstration, the hyperfine splitting of nuclear states are excluded.\n",
    "Subsequent demonstrations should include this. \n",
    "\n",
    "We can create NV Hamiltonian factory objects for the electronic ground and excited states, excluding the nuclear states."
   ]
  },
  {
   "cell_type": "code",
   "execution_count": 458,
   "id": "edaee58d",
   "metadata": {
    "tags": []
   },
   "outputs": [],
   "source": [
    "nvgs = nvmodels.NVNegativeGroundState(include_nuclear_states = False)"
   ]
  },
  {
   "cell_type": "code",
   "execution_count": 459,
   "id": "5a6d5061",
   "metadata": {},
   "outputs": [],
   "source": [
    "nves = nvmodels.NVNegativeExcitedState(include_nuclear_states = False)"
   ]
  },
  {
   "cell_type": "code",
   "execution_count": 508,
   "id": "2d21d688",
   "metadata": {},
   "outputs": [],
   "source": [
    "# in order to separtate the -1 and +1 states, we place a static field\n",
    "\n",
    "B_mag = 25e-4  # 50 Gauss in the z direction\n"
   ]
  },
  {
   "cell_type": "code",
   "execution_count": 519,
   "id": "a13540e0",
   "metadata": {},
   "outputs": [],
   "source": [
    "polar = 0\n",
    "azimuthal = 0\n",
    "_x = np.sin(polar)*np.cos(azimuthal)\n",
    "_y = np.sin(polar)*np.sin(azimuthal)\n",
    "_z = np.cos(polar)\n",
    "static_B_field = B_mag*np.array([_x, _y, _z])\n",
    "\n",
    "h_gs = nvgs.zero_field_hamiltonian()\n",
    "h_gs += nvgs.nitrogen_hyperfine_hamiltonian() #with include nuclear states = False, this line actually does nothing. But we keep it here for future demonstrations\n",
    "h_gs += nvgs.nitrogen_electric_quadrupole_hamiltonian()  #with include nuclear states = False, this line actually does nothing. But we keep it here for future demonstrations\n",
    "h_gs += nvgs.static_mag_field_hamiltonian(static_B_field)\n",
    "\n",
    "\n",
    "#NB - the excited electronic state hamiltonian does NOT include the ~470 THz energy difference\n",
    "# above the ground state. However, as can be seen a few lines below, \n",
    "# about 4 GHz is addes to the hamiltonian in order to raise\n",
    "# the exctied states above the ground state. This will assist in visualizing the states later\n",
    "\n",
    "h_es = nves.zero_field_hamiltonian()\n",
    "h_es += nves.nitrogen_hyperfine_hamiltonian()  #with include nuclear states = False, this line actually does nothing. But we keep it here for future demonstrations\n",
    "h_es += nves.nitrogen_electric_quadrupole_hamiltonian()  #with include nuclear states = False, this line actually does nothing. But we keep it here for future demonstrations\n",
    "h_es += nves.static_mag_field_hamiltonian(static_B_field)\n",
    "\n",
    "h_es += 6e9*qutip.qeye(3) #add E to the excited state so we can properly separate"
   ]
  },
  {
   "cell_type": "markdown",
   "id": "42ad6b48",
   "metadata": {},
   "source": [
    "### Combine into single Hamiltonian\n",
    "\n",
    "We now combine the ground, excited and an inter-system crossing state into a single Hamiltonian\n",
    "\n",
    "```\n",
    "|  H_gs        | \n",
    "|       H_es   |\n",
    "|            S |\n",
    "```\n"
   ]
  },
  {
   "cell_type": "code",
   "execution_count": 523,
   "id": "a08705f9",
   "metadata": {},
   "outputs": [],
   "source": [
    "\n",
    "#combine into single hamiltonian\n",
    "ISC_size = 1 + 2*nvgs.include_nuclear_states  #note, we are neglecting 1E ISC state which has a lifetime of 1 ns. the 1A1 lifetime is 300 ns. \n",
    "  \n",
    "full_h_shape = h_gs.shape[0] + h_es.shape[0] + ISC_size\n",
    "\n",
    "hh = np.zeros((full_h_shape,full_h_shape), dtype=np.cdouble)\n",
    "\n",
    "gs_idx = [0, h_gs.shape[0] , 0, h_gs.shape[1]]\n",
    "hh[gs_idx[0]:gs_idx[1], gs_idx[2]:gs_idx[3]] = h_gs\n",
    "\n",
    "es_idx = [gs_idx[1], gs_idx[1] + h_es.shape[0] , gs_idx[3], gs_idx[3] + h_es.shape[1]]\n",
    "hh[es_idx[0]:es_idx[1], es_idx[2]:es_idx[3]] = h_es\n",
    "\n",
    "ss_idx = [es_idx[1], es_idx[1] + ISC_size , es_idx[3], es_idx[3] + ISC_size]\n",
    "hh[ss_idx[0]:ss_idx[1], ss_idx[2]:ss_idx[3]]  = np.eye(ISC_size)*2.5e9 # we artificially raise the E of the ISC so that we can visualize the states later\n",
    "\n",
    "hh_full = qutip.Qobj(hh)"
   ]
  },
  {
   "cell_type": "markdown",
   "id": "62f34ee0",
   "metadata": {},
   "source": [
    "#### Examine the H_gs (electronic ground state)\n",
    "\n",
    "Remember, only shown are the electronic states (no nuclear hyperfine interaction)\n"
   ]
  },
  {
   "cell_type": "code",
   "execution_count": 524,
   "id": "abb89dac",
   "metadata": {},
   "outputs": [
    {
     "name": "stdout",
     "output_type": "stream",
     "text": [
      "Quantum object: dims = [[3], [3]], shape = (3, 3), type = oper, isherm = True\n",
      "Qobj data =\n",
      "[[ 1.02674587e+09  0.00000000e+00  0.00000000e+00]\n",
      " [ 0.00000000e+00 -1.91333333e+09  0.00000000e+00]\n",
      " [ 0.00000000e+00  0.00000000e+00  8.86587468e+08]]\n"
     ]
    },
    {
     "data": {
      "text/plain": [
       "Text(0.5, 0, 'State index')"
      ]
     },
     "execution_count": 524,
     "metadata": {},
     "output_type": "execute_result"
    },
    {
     "data": {
      "image/png": "[encoded data removed]",
      "text/plain": [
       "<Figure size 640x480 with 1 Axes>"
      ]
     },
     "metadata": {},
     "output_type": "display_data"
    }
   ],
   "source": [
    "print(h_gs)\n",
    "eigenvalues, eigenstates = h_gs.eigenstates()\n",
    "state_probs_text = [f'ground state: {i}' for i,s in enumerate(eigenstates)]\n",
    "\n",
    "fig, ax = nvmodels.plotting.plot_eigenspectrum_mpl(eigenvalues, state_probs_text)\n",
    "ax.set_ylabel('Energy (Hz)')\n",
    "ax.set_xlabel('State index')"
   ]
  },
  {
   "cell_type": "markdown",
   "id": "40464dc4",
   "metadata": {},
   "source": [
    "#### Examine the H_es (electronic excited state)\n",
    "\n",
    "Remember, only shown are the electronic states (no nuclear hyperfine interaction)\n",
    "\n",
    "It should be noted that the excited state Hamiltonian does not include the ~470 THz energy difference\n",
    "relative to the ground state. This is not necessary for our computation. "
   ]
  },
  {
   "cell_type": "code",
   "execution_count": 525,
   "id": "e232a437",
   "metadata": {},
   "outputs": [
    {
     "name": "stdout",
     "output_type": "stream",
     "text": [
      "Quantum object: dims = [[3], [3]], shape = (3, 3), type = oper, isherm = True\n",
      "Qobj data =\n",
      "[[6.71674587e+09 0.00000000e+00 0.00000000e+00]\n",
      " [0.00000000e+00 4.70666667e+09 0.00000000e+00]\n",
      " [0.00000000e+00 0.00000000e+00 6.57658747e+09]]\n"
     ]
    },
    {
     "data": {
      "text/plain": [
       "Text(0.5, 0, 'State index')"
      ]
     },
     "execution_count": 525,
     "metadata": {},
     "output_type": "execute_result"
    },
    {
     "data": {
      "image/png": "[encoded data removed]",
      "text/plain": [
       "<Figure size 640x480 with 1 Axes>"
      ]
     },
     "metadata": {},
     "output_type": "display_data"
    }
   ],
   "source": [
    "print(h_es)\n",
    "eigenvalues, eigenstates = h_es.eigenstates()\n",
    "state_probs_text = [f'excited state: {i}' for i,s in enumerate(eigenstates)]\n",
    "\n",
    "fig, ax = nvmodels.plotting.plot_eigenspectrum_mpl(eigenvalues, state_probs_text)\n",
    "ax.set_ylabel('Energy (Hz)')\n",
    "ax.set_xlabel('State index')"
   ]
  },
  {
   "cell_type": "markdown",
   "id": "17b87759",
   "metadata": {},
   "source": [
    "#### Examine the H_full\n",
    "\n",
    "This is the full Hamiltonian, including the long-lived inter-system crossing state.\n",
    "\n",
    "It should be noted that the excited state Hamiltonian does not include the ~470 THz energy difference\n",
    "relative to the ground state. As such, the excited states will appear in the plot at similar energy scale as\n",
    "the ground state"
   ]
  },
  {
   "cell_type": "code",
   "execution_count": 526,
   "id": "051e36df",
   "metadata": {},
   "outputs": [
    {
     "name": "stdout",
     "output_type": "stream",
     "text": [
      "Quantum object: dims = [[7], [7]], shape = (7, 7), type = oper, isherm = True\n",
      "Qobj data =\n",
      "[[ 1.02674587e+09  0.00000000e+00  0.00000000e+00  0.00000000e+00\n",
      "   0.00000000e+00  0.00000000e+00  0.00000000e+00]\n",
      " [ 0.00000000e+00 -1.91333333e+09  0.00000000e+00  0.00000000e+00\n",
      "   0.00000000e+00  0.00000000e+00  0.00000000e+00]\n",
      " [ 0.00000000e+00  0.00000000e+00  8.86587468e+08  0.00000000e+00\n",
      "   0.00000000e+00  0.00000000e+00  0.00000000e+00]\n",
      " [ 0.00000000e+00  0.00000000e+00  0.00000000e+00  6.71674587e+09\n",
      "   0.00000000e+00  0.00000000e+00  0.00000000e+00]\n",
      " [ 0.00000000e+00  0.00000000e+00  0.00000000e+00  0.00000000e+00\n",
      "   4.70666667e+09  0.00000000e+00  0.00000000e+00]\n",
      " [ 0.00000000e+00  0.00000000e+00  0.00000000e+00  0.00000000e+00\n",
      "   0.00000000e+00  6.57658747e+09  0.00000000e+00]\n",
      " [ 0.00000000e+00  0.00000000e+00  0.00000000e+00  0.00000000e+00\n",
      "   0.00000000e+00  0.00000000e+00  2.50000000e+09]]\n"
     ]
    },
    {
     "data": {
      "text/plain": [
       "Text(0.5, 0, 'State index')"
      ]
     },
     "execution_count": 526,
     "metadata": {},
     "output_type": "execute_result"
    },
    {
     "data": {
      "image/png": "[encoded data removed]",
      "text/plain": [
       "<Figure size 640x480 with 1 Axes>"
      ]
     },
     "metadata": {},
     "output_type": "display_data"
    }
   ],
   "source": [
    "print(hh_full)\n",
    "eigenvalues, eigenstates = hh_full.eigenstates()\n",
    "state_probs_text = [f'{i}' for i,s in enumerate(eigenstates)]\n",
    "\n",
    "fig, ax = nvmodels.plotting.plot_eigenspectrum_mpl(eigenvalues, state_probs_text)\n",
    "ax.set_ylabel('Energy (Hz)')\n",
    "ax.set_xlabel('State index')"
   ]
  },
  {
   "cell_type": "markdown",
   "id": "a061e7c0",
   "metadata": {},
   "source": [
    "# State Identificaion\n",
    "\n",
    "\n",
    "* 0  -->  3A2, ground state, ms = 0\n",
    "* 1-2 --> 3A2, ground state, ms = +-1\n",
    "\n",
    "* 3 --> A1, ISC crossing state\n",
    "\n",
    "\n",
    "* 4  -->  3E, excited state, ms = 0\n",
    "* 5-6 --> 3E, excited state, ms = +-1\n",
    "\n",
    "\n",
    "Energy level diagram with state index\n",
    "\n",
    "\n",
    "```\n",
    "ms = 0        \n",
    "                 ---- 6 (ms = +1)\n",
    "                 ---- 5 (ms = -1)\n",
    "---- 4\n",
    "          ISC\n",
    "        ---- 3\n",
    "                ----- 2 (ms = +1)\n",
    "                ----- 1 (ms = -1)\n",
    "---- 0\n",
    "```\n"
   ]
  },
  {
   "cell_type": "code",
   "execution_count": 800,
   "id": "0a67413d",
   "metadata": {},
   "outputs": [
    {
     "data": {
      "text/plain": [
       "{'gs_0': 0,\n",
       " 'gs_m1': 1,\n",
       " 'gs_p1': 2,\n",
       " 'isc': 3,\n",
       " 'es_0': 4,\n",
       " 'es_m1': 5,\n",
       " 'es_p1': 6}"
      ]
     },
     "execution_count": 800,
     "metadata": {},
     "output_type": "execute_result"
    }
   ],
   "source": [
    "dict(gs_0 = 0,\n",
    "gs_m1 = 1 ,\n",
    "gs_p1 = 2,\n",
    "isc = 3  ,\n",
    "es_0 = 4 ,\n",
    "es_m1 = 5,\n",
    "es_p1 = 6)"
   ]
  },
  {
   "cell_type": "code",
   "execution_count": 528,
   "id": "8c26ed14",
   "metadata": {},
   "outputs": [],
   "source": [
    "gs_0 = 0 # ground state, ms = 0\n",
    "gs_m1 = 1 # ground state, ms = -1\n",
    "gs_p1 = 2 # ground state, ms = +1\n",
    "isc = 3  \n",
    "es_0 = 4  # excited state ms = 0\n",
    "es_m1 = 5 # excited state ms = -1\n",
    "es_p1 = 6 # excited state ms = +1"
   ]
  },
  {
   "cell_type": "markdown",
   "id": "b75abca0",
   "metadata": {},
   "source": [
    "# Build Lindblad Collapse Operators\n",
    "\n",
    "The Lindblad operators in the master equations describe the transtions between states; includes optical pumping, spontaneous emission, intersystem crossing rates and relaxation"
   ]
  },
  {
   "cell_type": "markdown",
   "id": "217cbbf2",
   "metadata": {},
   "source": [
    "## Define Transition Rates\n",
    "\n",
    "Create a matrix of transition rates between states.\n",
    "\n",
    "https://journals.aps.org/prapplied/pdf/10.1103/PhysRevApplied.19.034061"
   ]
  },
  {
   "cell_type": "code",
   "execution_count": 756,
   "id": "d2d46c91",
   "metadata": {},
   "outputs": [],
   "source": [
    "gamma = np.zeros(hh_full.shape)\n",
    "#gamma[l, m] = transition rate from state l to state m"
   ]
  },
  {
   "cell_type": "markdown",
   "id": "8674cdfc",
   "metadata": {},
   "source": [
    "### Optical Pumping\n",
    "\n",
    "We add transition from the ground to the excited electronic states"
   ]
  },
  {
   "cell_type": "code",
   "execution_count": 798,
   "id": "0786ae86",
   "metadata": {},
   "outputs": [
    {
     "data": {
      "text/plain": [
       "(7, 7)"
      ]
     },
     "execution_count": 798,
     "metadata": {},
     "output_type": "execute_result"
    }
   ],
   "source": [
    "gamma.shape"
   ]
  },
  {
   "cell_type": "code",
   "execution_count": 757,
   "id": "723ba646",
   "metadata": {},
   "outputs": [],
   "source": [
    "\n",
    "watts = 3\n",
    "optical_pumping_rate = 1.1e6 * watts # optical pumping rate (example: 1/285e-9 = 3.5 MHz\n",
    "\n",
    "gamma[gs_0,es_0] = optical_pumping_rate\n",
    "gamma[gs_m1,es_m1] = optical_pumping_rate\n",
    "gamma[gs_p1,es_p1] = optical_pumping_rate"
   ]
  },
  {
   "cell_type": "markdown",
   "id": "32db1738",
   "metadata": {},
   "source": [
    "#### Spontaneous Emission"
   ]
  },
  {
   "cell_type": "code",
   "execution_count": 758,
   "id": "4991dbb3",
   "metadata": {},
   "outputs": [],
   "source": [
    "spontaneous_emission = 1/15.8e-9  \n",
    "\n",
    "gamma[es_0,gs_0] = spontaneous_emission\n",
    "gamma[es_m1,gs_m1] = gamma[es_p1,gs_p1] = 1/15.9e-9"
   ]
  },
  {
   "cell_type": "markdown",
   "id": "c8bf84fd",
   "metadata": {},
   "source": [
    "#### Relaxation"
   ]
  },
  {
   "cell_type": "code",
   "execution_count": 759,
   "id": "b92d0c1d",
   "metadata": {},
   "outputs": [],
   "source": [
    "#boltzmann relaxation\n",
    "\n",
    "# decay from g, ms=+-1 -> g ms=0\n",
    "gamma[gs_m1,gs_0] = 1./3e-3 # milliseconds \n",
    "gamma[gs_p1,gs_0] = gamma[gs_m1,gs_0]\n",
    "\n",
    "# rate the other way is relatively affected by energy difference\n",
    "room_temp = scipy.constants.physical_constants['Boltzmann constant in Hz/K'][0] * nvgs.temperature\n",
    "gamma[gs_0,gs_m1] = gamma[gs_m1,gs_0]*np.exp(-nvgs.zero_field_splitting()/room_temp)\n",
    "gamma[gs_0,gs_p1] = gamma[gs_p1,gs_0]*np.exp(-nvgs.zero_field_splitting()/room_temp)"
   ]
  },
  {
   "cell_type": "markdown",
   "id": "563ff096",
   "metadata": {},
   "source": [
    "#### Inter System Crossing\n",
    "\n",
    "This is responsible for the ability to pump from the ms = +-1 states to the ms = 0 state"
   ]
  },
  {
   "cell_type": "code",
   "execution_count": 760,
   "id": "37acdee6",
   "metadata": {},
   "outputs": [],
   "source": [
    "#ISC crossing from 3E to A1\n",
    "gamma[es_m1,isc] = gamma[es_p1,isc] = 1/12.5e-9\n",
    "gamma[es_0,isc] = 1/76.9e-9 \n",
    "\n",
    "#ISC from A1 to 3A2\n",
    "gamma[isc,gs_0] = 1/289e-9   \n",
    "gamma[isc,gs_m1] = gamma[isc,gs_p1] = 1/463e-9  "
   ]
  },
  {
   "cell_type": "markdown",
   "id": "071869a1",
   "metadata": {},
   "source": [
    "### Build the Lindblad Operators"
   ]
  },
  {
   "cell_type": "code",
   "execution_count": 761,
   "id": "1291eec1",
   "metadata": {},
   "outputs": [],
   "source": [
    "# projection operator |m >< l|\n",
    "def projection(s, from_l, to_m):\n",
    "    return qutip.basis(s,to_m)*qutip.basis(s,from_l).dag()"
   ]
  },
  {
   "cell_type": "code",
   "execution_count": 762,
   "id": "bfd72be0",
   "metadata": {},
   "outputs": [],
   "source": [
    "# create dictionary of lindblad operators based on non-zero values of gamma\n",
    "L = {f'{l}->{m}':np.sqrt(gamma[l,m])*projection(full_h_shape, l, m) \n",
    "         for l,m in itertools.product(range(full_h_shape), range(full_h_shape)) if gamma[l,m]!=0}"
   ]
  },
  {
   "cell_type": "code",
   "execution_count": 763,
   "id": "afd28bea",
   "metadata": {},
   "outputs": [
    {
     "name": "stdout",
     "output_type": "stream",
     "text": [
      "3300000.0\n"
     ]
    },
    {
     "data": {
      "text/latex": [
       "Quantum object: dims = [[7], [7]], shape = (7, 7), type = oper, isherm = False $ \\\\ \\left(\\begin{matrix}0.0 & 0.0 & 0.0 & 0.0 & 0.0 & 0.0 & 0.0\\\\0.0 & 0.0 & 0.0 & 0.0 & 0.0 & 0.0 & 0.0\\\\0.0 & 0.0 & 0.0 & 0.0 & 0.0 & 0.0 & 0.0\\\\0.0 & 0.0 & 0.0 & 0.0 & 0.0 & 0.0 & 0.0\\\\1.817\\times10^{+03} & 0.0 & 0.0 & 0.0 & 0.0 & 0.0 & 0.0\\\\0.0 & 0.0 & 0.0 & 0.0 & 0.0 & 0.0 & 0.0\\\\0.0 & 0.0 & 0.0 & 0.0 & 0.0 & 0.0 & 0.0\\\\\\end{matrix}\\right)$"
      ],
      "text/plain": [
       "Quantum object: dims = [[7], [7]], shape = (7, 7), type = oper, isherm = False\n",
       "Qobj data =\n",
       "[[   0.            0.            0.            0.            0.\n",
       "     0.            0.        ]\n",
       " [   0.            0.            0.            0.            0.\n",
       "     0.            0.        ]\n",
       " [   0.            0.            0.            0.            0.\n",
       "     0.            0.        ]\n",
       " [   0.            0.            0.            0.            0.\n",
       "     0.            0.        ]\n",
       " [1816.59021246    0.            0.            0.            0.\n",
       "     0.            0.        ]\n",
       " [   0.            0.            0.            0.            0.\n",
       "     0.            0.        ]\n",
       " [   0.            0.            0.            0.            0.\n",
       "     0.            0.        ]]"
      ]
     },
     "execution_count": 763,
     "metadata": {},
     "output_type": "execute_result"
    }
   ],
   "source": [
    "print(gamma[gs_0,es_0])\n",
    "L[f'{gs_0}->{es_0}']"
   ]
  },
  {
   "cell_type": "markdown",
   "id": "f6258e3a",
   "metadata": {},
   "source": [
    "# Define Observables"
   ]
  },
  {
   "cell_type": "code",
   "execution_count": 764,
   "id": "955bd657",
   "metadata": {},
   "outputs": [],
   "source": [
    "#number of photons associated with spontaneous emission, \n",
    "#which is proportional to the population of the excited states "
   ]
  },
  {
   "cell_type": "code",
   "execution_count": 765,
   "id": "d92525c3",
   "metadata": {},
   "outputs": [],
   "source": [
    "PL_rate = gamma[es_0,gs_0]*projection(full_h_shape, es_0, es_0)/gamma[es_0,:].sum()\n",
    "PL_rate += gamma[es_m1,gs_m1]*projection(full_h_shape, es_m1, es_m1)/gamma[es_m1,:].sum()\n",
    "PL_rate += gamma[es_p1,gs_p1]*projection(full_h_shape, es_p1, es_p1)/gamma[es_p1,:].sum()"
   ]
  },
  {
   "cell_type": "code",
   "execution_count": 766,
   "id": "193b1712",
   "metadata": {},
   "outputs": [
    {
     "data": {
      "text/latex": [
       "Quantum object: dims = [[7], [7]], shape = (7, 7), type = oper, isherm = True $ \\\\ \\left(\\begin{matrix}0.0 & 0.0 & 0.0 & 0.0 & 0.0 & 0.0 & 0.0\\\\0.0 & 0.0 & 0.0 & 0.0 & 0.0 & 0.0 & 0.0\\\\0.0 & 0.0 & 0.0 & 0.0 & 0.0 & 0.0 & 0.0\\\\0.0 & 0.0 & 0.0 & 0.0 & 0.0 & 0.0 & 0.0\\\\0.0 & 0.0 & 0.0 & 0.0 & 0.830 & 0.0 & 0.0\\\\0.0 & 0.0 & 0.0 & 0.0 & 0.0 & 0.440 & 0.0\\\\0.0 & 0.0 & 0.0 & 0.0 & 0.0 & 0.0 & 0.440\\\\\\end{matrix}\\right)$"
      ],
      "text/plain": [
       "Quantum object: dims = [[7], [7]], shape = (7, 7), type = oper, isherm = True\n",
       "Qobj data =\n",
       "[[0.         0.         0.         0.         0.         0.\n",
       "  0.        ]\n",
       " [0.         0.         0.         0.         0.         0.\n",
       "  0.        ]\n",
       " [0.         0.         0.         0.         0.         0.\n",
       "  0.        ]\n",
       " [0.         0.         0.         0.         0.         0.\n",
       "  0.        ]\n",
       " [0.         0.         0.         0.         0.82955771 0.\n",
       "  0.        ]\n",
       " [0.         0.         0.         0.         0.         0.44014085\n",
       "  0.        ]\n",
       " [0.         0.         0.         0.         0.         0.\n",
       "  0.44014085]]"
      ]
     },
     "execution_count": 766,
     "metadata": {},
     "output_type": "execute_result"
    }
   ],
   "source": [
    "PL_rate"
   ]
  },
  {
   "cell_type": "code",
   "execution_count": 770,
   "id": "46eb91d6",
   "metadata": {},
   "outputs": [],
   "source": [
    "#population of excited state \n",
    "\n",
    "P_es = projection(full_h_shape, es_0, es_0)\n",
    "P_es += projection(full_h_shape, es_m1, es_m1) \n",
    "P_es += projection(full_h_shape, es_p1, es_p1)\n",
    "\n",
    "#population of ground state\n",
    "P_gs = projection(full_h_shape, gs_0, gs_0)\n",
    "P_gs += projection(full_h_shape, gs_m1, gs_m1)\n",
    "P_gs += projection(full_h_shape, gs_p1, gs_p1)\n",
    "\n",
    "#population of gs ms = 0\n",
    "#population of gs ms = +-1\n",
    "\n",
    "P_gs_ms_0 = projection(full_h_shape, gs_0, gs_0)\n",
    "P_gs_mspm1 = projection(full_h_shape, gs_m1, gs_m1) + projection(full_h_shape, gs_p1, gs_p1)\n",
    "\n",
    "P_gs_ms_p1 = projection(full_h_shape, gs_p1, gs_p1)\n",
    "P_gs_ms_m1 = projection(full_h_shape, gs_m1, gs_m1)\n",
    "\n",
    "P_es_ms_0 = projection(full_h_shape, es_0, es_0)\n",
    "P_es_ms_p1 = projection(full_h_shape, es_p1, es_p1)\n",
    "P_es_ms_m1 = projection(full_h_shape, es_m1, es_m1)"
   ]
  },
  {
   "cell_type": "code",
   "execution_count": 771,
   "id": "be0e9499",
   "metadata": {},
   "outputs": [],
   "source": [
    "# we start in a near equal distribution of spin states\n",
    "\n",
    "psi0 = 0.34*projection(full_h_shape, gs_0, gs_0)  \\\n",
    "    + 0.33*projection(full_h_shape, gs_p1, gs_p1) \\\n",
    "    + 0.33*projection(full_h_shape, gs_m1, gs_m1)"
   ]
  },
  {
   "cell_type": "code",
   "execution_count": 772,
   "id": "a6e49012",
   "metadata": {},
   "outputs": [
    {
     "data": {
      "text/latex": [
       "Quantum object: dims = [[7], [7]], shape = (7, 7), type = oper, isherm = True $ \\\\ \\left(\\begin{matrix}0.340 & 0.0 & 0.0 & 0.0 & 0.0 & 0.0 & 0.0\\\\0.0 & 0.330 & 0.0 & 0.0 & 0.0 & 0.0 & 0.0\\\\0.0 & 0.0 & 0.330 & 0.0 & 0.0 & 0.0 & 0.0\\\\0.0 & 0.0 & 0.0 & 0.0 & 0.0 & 0.0 & 0.0\\\\0.0 & 0.0 & 0.0 & 0.0 & 0.0 & 0.0 & 0.0\\\\0.0 & 0.0 & 0.0 & 0.0 & 0.0 & 0.0 & 0.0\\\\0.0 & 0.0 & 0.0 & 0.0 & 0.0 & 0.0 & 0.0\\\\\\end{matrix}\\right)$"
      ],
      "text/plain": [
       "Quantum object: dims = [[7], [7]], shape = (7, 7), type = oper, isherm = True\n",
       "Qobj data =\n",
       "[[0.34 0.   0.   0.   0.   0.   0.  ]\n",
       " [0.   0.33 0.   0.   0.   0.   0.  ]\n",
       " [0.   0.   0.33 0.   0.   0.   0.  ]\n",
       " [0.   0.   0.   0.   0.   0.   0.  ]\n",
       " [0.   0.   0.   0.   0.   0.   0.  ]\n",
       " [0.   0.   0.   0.   0.   0.   0.  ]\n",
       " [0.   0.   0.   0.   0.   0.   0.  ]]"
      ]
     },
     "execution_count": 772,
     "metadata": {},
     "output_type": "execute_result"
    }
   ],
   "source": [
    "psi0"
   ]
  },
  {
   "cell_type": "markdown",
   "id": "97e3d887",
   "metadata": {},
   "source": [
    "# Evolve the System"
   ]
  },
  {
   "cell_type": "code",
   "execution_count": 773,
   "id": "7339389a",
   "metadata": {},
   "outputs": [],
   "source": [
    "times = np.linspace(0,10e-6,2000)"
   ]
  },
  {
   "cell_type": "code",
   "execution_count": 775,
   "id": "292fa487",
   "metadata": {},
   "outputs": [],
   "source": [
    "result = qutip.mesolve(hh_full, psi0, times, L.values(), \n",
    "                       [PL_rate, P_es, P_gs, P_gs_ms_0, P_gs_mspm1, P_gs_ms_p1, P_gs_ms_m1, P_es_ms_0, P_es_ms_p1, P_es_ms_m1])"
   ]
  },
  {
   "cell_type": "code",
   "execution_count": 776,
   "id": "fe0f57ce",
   "metadata": {},
   "outputs": [
    {
     "data": {
      "text/plain": [
       "<matplotlib.legend.Legend at 0x7fdd8b251c00>"
      ]
     },
     "execution_count": 776,
     "metadata": {},
     "output_type": "execute_result"
    },
    {
     "data": {
      "image/png": "[encoded data removed]",
      "text/plain": [
       "<Figure size 640x480 with 1 Axes>"
      ]
     },
     "metadata": {},
     "output_type": "display_data"
    }
   ],
   "source": [
    "plt.plot(times, result.expect[3], label = 'ground ms=0')\n",
    "plt.plot(times, result.expect[4], label = 'ground ms=1 + ground ms=-1')\n",
    "plt.xlabel('time')\n",
    "plt.ylabel('state population')\n",
    "plt.legend()"
   ]
  },
  {
   "cell_type": "markdown",
   "id": "b7cfcb14",
   "metadata": {},
   "source": [
    "Above, can see that we optically pump from ms = +-1 state to the zero state within a few microseconds. \n",
    "Although, we don't get fully polarized into ms = 0. Why not? "
   ]
  },
  {
   "cell_type": "code",
   "execution_count": 777,
   "id": "a23f9ee2",
   "metadata": {},
   "outputs": [],
   "source": [
    "gs_0_pop_after_optical_pump = result.expect[3][-1]\n",
    "gs_p1_pop_after_optical_pump = result.expect[5][-1]\n",
    "gs_m1_pop_after_optical_pump = result.expect[6][-1]\n",
    "\n",
    "es_0_pop_after_optical_pump = result.expect[7][-1]\n",
    "es_p1_pop_after_optical_pump = result.expect[8][-1]\n",
    "es_m1_pop_after_optical_pump = result.expect[9][-1]"
   ]
  },
  {
   "cell_type": "code",
   "execution_count": 778,
   "id": "0eb4e2cb",
   "metadata": {},
   "outputs": [
    {
     "name": "stdout",
     "output_type": "stream",
     "text": [
      "0.6267685048801049\n",
      "0.1193142864005672\n",
      "0.1193142864005672\n",
      "0.02710969989680676\n",
      "0.0027554662783175017\n",
      "0.0027554662783175017\n"
     ]
    }
   ],
   "source": [
    "print(gs_0_pop_after_optical_pump)\n",
    "print(gs_p1_pop_after_optical_pump)\n",
    "print(gs_m1_pop_after_optical_pump)\n",
    "print(es_0_pop_after_optical_pump)\n",
    "print(es_p1_pop_after_optical_pump)\n",
    "print(es_m1_pop_after_optical_pump)"
   ]
  },
  {
   "cell_type": "code",
   "execution_count": 779,
   "id": "db563256",
   "metadata": {},
   "outputs": [
    {
     "data": {
      "text/plain": [
       "Text(0, 0.5, 'PL rate')"
      ]
     },
     "execution_count": 779,
     "metadata": {},
     "output_type": "execute_result"
    },
    {
     "data": {
      "image/png": "[encoded data removed]",
      "text/plain": [
       "<Figure size 640x480 with 1 Axes>"
      ]
     },
     "metadata": {},
     "output_type": "display_data"
    }
   ],
   "source": [
    "plt.plot(times, result.expect[0]) #this should be the PL rate....?\n",
    "plt.xlabel('time')\n",
    "plt.ylabel('PL rate')"
   ]
  },
  {
   "cell_type": "code",
   "execution_count": 780,
   "id": "6a16e606",
   "metadata": {},
   "outputs": [
    {
     "name": "stdout",
     "output_type": "stream",
     "text": [
      "0.024914647160547764\n"
     ]
    }
   ],
   "source": [
    "max_PL = result.expect[0][-1]\n",
    "print(max_PL)"
   ]
  },
  {
   "cell_type": "markdown",
   "id": "2cd13bbd",
   "metadata": {},
   "source": [
    "### What happens when the lights go out? "
   ]
  },
  {
   "cell_type": "code",
   "execution_count": 781,
   "id": "6f24fd68",
   "metadata": {},
   "outputs": [],
   "source": [
    "psi0 = projection(full_h_shape, gs_m1, gs_m1) #start fully polarized into the -1 state"
   ]
  },
  {
   "cell_type": "code",
   "execution_count": 782,
   "id": "a510a2ec",
   "metadata": {},
   "outputs": [],
   "source": [
    "watts = 0\n",
    "optical_pumping_rate = 1.1e6 * watts # optical pumping rate (example: 1/285e-9 = 3.5 MHz\n",
    "\n",
    "gamma[gs_0,es_0] = optical_pumping_rate\n",
    "gamma[gs_m1,es_m1] = optical_pumping_rate\n",
    "gamma[gs_p1,es_p1] = optical_pumping_rate"
   ]
  },
  {
   "cell_type": "code",
   "execution_count": 783,
   "id": "4fb40a69",
   "metadata": {},
   "outputs": [],
   "source": [
    "# create dictionary of lindblad operators based on non-zero values of gamma\n",
    "L = {f'{l}->{m}':np.sqrt(gamma[l,m])*projection(full_h_shape, l, m) \n",
    "         for l,m in itertools.product(range(full_h_shape), range(full_h_shape)) if gamma[l,m]!=0}"
   ]
  },
  {
   "cell_type": "code",
   "execution_count": 784,
   "id": "ed1cc01f",
   "metadata": {},
   "outputs": [
    {
     "data": {
      "text/plain": [
       "<matplotlib.legend.Legend at 0x7fdd8b2c2410>"
      ]
     },
     "execution_count": 784,
     "metadata": {},
     "output_type": "execute_result"
    },
    {
     "data": {
      "image/png": "[encoded data removed]",
      "text/plain": [
       "<Figure size 640x480 with 1 Axes>"
      ]
     },
     "metadata": {},
     "output_type": "display_data"
    }
   ],
   "source": [
    "times = np.linspace(0,5e-3,2000)\n",
    "result = qutip.mesolve(hh_full, psi0, times, L.values(), [PL_rate, P_es, P_gs, P_gs_ms_0, P_gs_mspm1])\n",
    "\n",
    "plt.plot(times, result.expect[3], label = 'ground ms=0')\n",
    "plt.plot(times, result.expect[4], label = 'ground ms=1 + ground ms=-1')\n",
    "plt.xlabel('time')\n",
    "plt.ylabel('state population')\n",
    "plt.legend()\n"
   ]
  },
  {
   "cell_type": "markdown",
   "id": "894dfcec",
   "metadata": {},
   "source": [
    "As hoped for, after a few milliseconds we relax into nearly equal distribution of ms = 0, 1 and -1 states."
   ]
  },
  {
   "cell_type": "code",
   "execution_count": 785,
   "id": "f7fa42bc",
   "metadata": {},
   "outputs": [],
   "source": [
    "# turn the lights back on\n",
    "watts = 3\n",
    "optical_pumping_rate = 1.1e6 * watts # optical pumping rate (example: 1/285e-9 = 3.5 MHz\n",
    "\n",
    "gamma[gs_0,es_0] = optical_pumping_rate\n",
    "gamma[gs_m1,es_m1] = optical_pumping_rate\n",
    "gamma[gs_p1,es_p1] = optical_pumping_rate\n",
    "\n",
    "# create dictionary of lindblad operators based on non-zero values of gamma\n",
    "L = {f'{l}->{m}':np.sqrt(gamma[l,m])*projection(full_h_shape, l, m) \n",
    "         for l,m in itertools.product(range(full_h_shape), range(full_h_shape)) if gamma[l,m]!=0}"
   ]
  },
  {
   "cell_type": "markdown",
   "id": "796a6ef5",
   "metadata": {},
   "source": [
    "### Add in Rabi drive to spin +- 1 states"
   ]
  },
  {
   "cell_type": "code",
   "execution_count": 786,
   "id": "e3bbc2df",
   "metadata": {},
   "outputs": [],
   "source": [
    "gamma[gs_0, gs_m1] = gamma[gs_m1, gs_0] = 1e6 # 1 MHz Rabi oscillation"
   ]
  },
  {
   "cell_type": "code",
   "execution_count": 789,
   "id": "9c1ec425",
   "metadata": {},
   "outputs": [],
   "source": [
    "# create dictionary of lindblad operators based on non-zero values of gamma\n",
    "L = {f'{l}->{m}':np.sqrt(gamma[l,m])*projection(full_h_shape, l, m) \n",
    "         for l,m in itertools.product(range(full_h_shape), range(full_h_shape)) if gamma[l,m]!=0}"
   ]
  },
  {
   "cell_type": "code",
   "execution_count": 788,
   "id": "f193aa87",
   "metadata": {},
   "outputs": [],
   "source": [
    "# let's start in a state that is mostly polarized into ms = 0\n",
    "# we'll use the density found at the end of the first simulation\n",
    "\n",
    "psi_opt_pump = gs_0_pop_after_optical_pump * projection(full_h_shape, gs_0, gs_0)\n",
    "psi_opt_pump += gs_p1_pop_after_optical_pump * projection(full_h_shape, gs_p1, gs_p1)\n",
    "psi_opt_pump += gs_m1_pop_after_optical_pump * projection(full_h_shape, gs_m1, gs_m1)\n",
    "psi_opt_pump += es_0_pop_after_optical_pump * projection(full_h_shape, es_0, es_0)\n",
    "psi_opt_pump += es_p1_pop_after_optical_pump * projection(full_h_shape, es_p1, es_p1)\n",
    "psi_opt_pump += es_m1_pop_after_optical_pump * projection(full_h_shape, es_m1, es_m1)\n",
    "\n"
   ]
  },
  {
   "cell_type": "code",
   "execution_count": 792,
   "id": "e1294735",
   "metadata": {},
   "outputs": [],
   "source": [
    "times = np.linspace(0,10e-6,2000)\n",
    "result = qutip.mesolve(hh_full, psi_opt_pump, times, L.values(), \n",
    "                       [PL_rate, P_es, P_gs, P_gs_ms_0, P_gs_mspm1, P_gs_ms_p1, P_gs_ms_m1, P_es_ms_0, P_es_ms_p1, P_es_ms_m1])"
   ]
  },
  {
   "cell_type": "code",
   "execution_count": 793,
   "id": "789a7939",
   "metadata": {},
   "outputs": [
    {
     "data": {
      "text/plain": [
       "<matplotlib.legend.Legend at 0x7fdd8b773c70>"
      ]
     },
     "execution_count": 793,
     "metadata": {},
     "output_type": "execute_result"
    },
    {
     "data": {
      "image/png": "[encoded data removed]",
      "text/plain": [
       "<Figure size 640x480 with 1 Axes>"
      ]
     },
     "metadata": {},
     "output_type": "display_data"
    }
   ],
   "source": [
    "plt.plot(times, result.expect[3], label = 'ground ms=0')\n",
    "plt.plot(times, result.expect[4], label = 'ground ms=1 + ground ms=-1')\n",
    "plt.xlabel('time')\n",
    "plt.ylabel('state population')\n",
    "plt.legend()"
   ]
  },
  {
   "cell_type": "code",
   "execution_count": 794,
   "id": "802ba111",
   "metadata": {},
   "outputs": [],
   "source": [
    "# Rabi oscillations drive population to the +-1 states, which should be darker"
   ]
  },
  {
   "cell_type": "code",
   "execution_count": 795,
   "id": "cd6f66dd",
   "metadata": {},
   "outputs": [
    {
     "data": {
      "text/plain": [
       "Text(0, 0.5, 'PL rate')"
      ]
     },
     "execution_count": 795,
     "metadata": {},
     "output_type": "execute_result"
    },
    {
     "data": {
      "image/png": "[encoded data removed]",
      "text/plain": [
       "<Figure size 640x480 with 1 Axes>"
      ]
     },
     "metadata": {},
     "output_type": "display_data"
    }
   ],
   "source": [
    "plt.plot(times, result.expect[0]) #this should be the PL rate....?\n",
    "plt.xlabel('time')\n",
    "plt.ylabel('PL rate')"
   ]
  },
  {
   "cell_type": "code",
   "execution_count": 796,
   "id": "6fef49f9",
   "metadata": {},
   "outputs": [
    {
     "data": {
      "text/plain": [
       "0.01794251575430458"
      ]
     },
     "execution_count": 796,
     "metadata": {},
     "output_type": "execute_result"
    }
   ],
   "source": [
    "result.expect[0][-1]"
   ]
  },
  {
   "cell_type": "code",
   "execution_count": 797,
   "id": "0420c686",
   "metadata": {},
   "outputs": [
    {
     "name": "stdout",
     "output_type": "stream",
     "text": [
      "0.7201593359394017\n"
     ]
    }
   ],
   "source": [
    "contrast = result.expect[0][-1]/max_PL\n",
    "print(contrast)"
   ]
  },
  {
   "cell_type": "code",
   "execution_count": null,
   "id": "f9759cf2",
   "metadata": {},
   "outputs": [],
   "source": []
  }
 ],
 "metadata": {
  "kernelspec": {
   "display_name": "Python 3 (ipykernel)",
   "language": "python",
   "name": "python3"
  },
  "language_info": {
   "codemirror_mode": {
    "name": "ipython",
    "version": 3
   },
   "file_extension": ".py",
   "mimetype": "text/x-python",
   "name": "python",
   "nbconvert_exporter": "python",
   "pygments_lexer": "ipython3",
   "version": "3.10.9"
  }
 },
 "nbformat": 4,
 "nbformat_minor": 5
}
