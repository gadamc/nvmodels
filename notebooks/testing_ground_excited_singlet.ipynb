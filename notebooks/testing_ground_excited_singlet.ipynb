{
 "cells": [
  {
   "cell_type": "markdown",
   "id": "f9d968c4-0f4b-4a95-9e0c-b805cf3242b0",
   "metadata": {},
   "source": [
    "# External Static B and ESR spectra\n",
    "\n",
    "The electron-spin resonance spectrum in the context of ODMR contrasts is\n",
    "modeled for a single $\\text{NV}^-$ center and four NV centers along each orientation in a \n",
    "homogenous static magnetic field. \n"
   ]
  },
  {
   "cell_type": "code",
   "execution_count": 1,
   "id": "70961cd3",
   "metadata": {
    "tags": []
   },
   "outputs": [],
   "source": [
    "%load_ext autoreload\n",
    "%autoreload 2"
   ]
  },
  {
   "cell_type": "code",
   "execution_count": 2,
   "id": "50e44d4b",
   "metadata": {
    "tags": []
   },
   "outputs": [],
   "source": [
    "import qutip"
   ]
  },
  {
   "cell_type": "code",
   "execution_count": 13,
   "id": "6e37e73a",
   "metadata": {
    "tags": []
   },
   "outputs": [],
   "source": [
    "import nvmodels\n",
    "import numpy as np"
   ]
  },
  {
   "cell_type": "code",
   "execution_count": 14,
   "id": "b0481c2a",
   "metadata": {
    "tags": []
   },
   "outputs": [],
   "source": [
    "import matplotlib.pyplot as plt"
   ]
  },
  {
   "cell_type": "code",
   "execution_count": 15,
   "id": "14a6e97a-1246-4d7d-9c5f-6d5e05f9ac40",
   "metadata": {
    "tags": []
   },
   "outputs": [],
   "source": [
    "# matplotlib widget requires jupyter-lab and ipympl\n",
    "# turns matplotlib figures interactive and zoomable"
   ]
  },
  {
   "cell_type": "code",
   "execution_count": 16,
   "id": "10de2daf",
   "metadata": {
    "tags": []
   },
   "outputs": [],
   "source": [
    "# %matplotlib widget"
   ]
  },
  {
   "cell_type": "code",
   "execution_count": 20,
   "id": "38ee758c",
   "metadata": {},
   "outputs": [
    {
     "data": {
      "text/plain": [
       "'0.0.1.dev1'"
      ]
     },
     "execution_count": 20,
     "metadata": {},
     "output_type": "execute_result"
    }
   ],
   "source": [
    "nvmodels.__version__"
   ]
  },
  {
   "cell_type": "code",
   "execution_count": 94,
   "id": "edaee58d",
   "metadata": {
    "tags": []
   },
   "outputs": [],
   "source": [
    "nvgs = nvmodels.NVNegativeGroundState()"
   ]
  },
  {
   "cell_type": "code",
   "execution_count": 95,
   "id": "5a6d5061",
   "metadata": {},
   "outputs": [],
   "source": [
    "nves = nvmodels.NVNegativeExcitedState()"
   ]
  },
  {
   "cell_type": "code",
   "execution_count": 144,
   "id": "083fb2cb",
   "metadata": {
    "tags": []
   },
   "outputs": [
    {
     "name": "stdout",
     "output_type": "stream",
     "text": [
      "[0. 0. 0.]\n"
     ]
    }
   ],
   "source": [
    "polar = 0\n",
    "azimuthal = 0\n",
    "_x = np.sin(polar)*np.cos(azimuthal)\n",
    "_y = np.sin(polar)*np.sin(azimuthal)\n",
    "_z = np.cos(polar)\n",
    "B_mag = 0e-4  # 10 Gauss in the z direction\n",
    "static_B_field = B_mag*np.array([_x, _y, _z])\n",
    "print(static_B_field)\n",
    "\n",
    "h_gs = nvgs.zero_field_hamiltonian()\n",
    "h_gs += nvgs.nitrogen_hyperfine_hamiltonian()\n",
    "h_gs += nvgs.nitrogen_electric_quadrupole_hamiltonian()\n",
    "h_gs += nvgs.static_mag_field_hamiltonian(static_B_field, include_nucleus = True)"
   ]
  },
  {
   "cell_type": "code",
   "execution_count": 145,
   "id": "b2b49bf2",
   "metadata": {
    "tags": []
   },
   "outputs": [
    {
     "data": {
      "text/latex": [
       "Quantum object: dims = [[3, 3], [3, 3]], shape = (9, 9), type = oper, isherm = True $ \\\\ \\left(\\begin{matrix}9.529\\times10^{+08} & 0.0 & 0.0 & 0.0 & 0.0 & 0.0 & 0.0 & 0.0 & 0.0\\\\0.0 & 9.600\\times10^{+08} & 0.0 & -2.700\\times10^{+06} & 0.0 & 0.0 & 0.0 & 0.0 & 0.0\\\\0.0 & 0.0 & 9.571\\times10^{+08} & 0.0 & -2.700\\times10^{+06} & 0.0 & 0.0 & 0.0 & 0.0\\\\0.0 & -2.700\\times10^{+06} & 0.0 & -1.915\\times10^{+09} & 0.0 & 0.0 & 0.0 & 0.0 & 0.0\\\\0.0 & 0.0 & -2.700\\times10^{+06} & 0.0 & -1.910\\times10^{+09} & 0.0 & -2.700\\times10^{+06} & 0.0 & 0.0\\\\0.0 & 0.0 & 0.0 & 0.0 & 0.0 & -1.915\\times10^{+09} & 0.0 & -2.700\\times10^{+06} & 0.0\\\\0.0 & 0.0 & 0.0 & 0.0 & -2.700\\times10^{+06} & 0.0 & 9.571\\times10^{+08} & 0.0 & 0.0\\\\0.0 & 0.0 & 0.0 & 0.0 & 0.0 & -2.700\\times10^{+06} & 0.0 & 9.600\\times10^{+08} & 0.0\\\\0.0 & 0.0 & 0.0 & 0.0 & 0.0 & 0.0 & 0.0 & 0.0 & 9.529\\times10^{+08}\\\\\\end{matrix}\\right)$"
      ],
      "text/plain": [
       "Quantum object: dims = [[3, 3], [3, 3]], shape = (9, 9), type = oper, isherm = True\n",
       "Qobj data =\n",
       "[[ 9.52856667e+08  0.00000000e+00  0.00000000e+00  0.00000000e+00\n",
       "   0.00000000e+00  0.00000000e+00  0.00000000e+00  0.00000000e+00\n",
       "   0.00000000e+00]\n",
       " [ 0.00000000e+00  9.60006667e+08  0.00000000e+00 -2.70000000e+06\n",
       "   0.00000000e+00  0.00000000e+00  0.00000000e+00  0.00000000e+00\n",
       "   0.00000000e+00]\n",
       " [ 0.00000000e+00  0.00000000e+00  9.57136667e+08  0.00000000e+00\n",
       "  -2.70000000e+06  0.00000000e+00  0.00000000e+00  0.00000000e+00\n",
       "   0.00000000e+00]\n",
       " [ 0.00000000e+00 -2.70000000e+06  0.00000000e+00 -1.91500333e+09\n",
       "   0.00000000e+00  0.00000000e+00  0.00000000e+00  0.00000000e+00\n",
       "   0.00000000e+00]\n",
       " [ 0.00000000e+00  0.00000000e+00 -2.70000000e+06  0.00000000e+00\n",
       "  -1.90999333e+09  0.00000000e+00 -2.70000000e+06  0.00000000e+00\n",
       "   0.00000000e+00]\n",
       " [ 0.00000000e+00  0.00000000e+00  0.00000000e+00  0.00000000e+00\n",
       "   0.00000000e+00 -1.91500333e+09  0.00000000e+00 -2.70000000e+06\n",
       "   0.00000000e+00]\n",
       " [ 0.00000000e+00  0.00000000e+00  0.00000000e+00  0.00000000e+00\n",
       "  -2.70000000e+06  0.00000000e+00  9.57136667e+08  0.00000000e+00\n",
       "   0.00000000e+00]\n",
       " [ 0.00000000e+00  0.00000000e+00  0.00000000e+00  0.00000000e+00\n",
       "   0.00000000e+00 -2.70000000e+06  0.00000000e+00  9.60006667e+08\n",
       "   0.00000000e+00]\n",
       " [ 0.00000000e+00  0.00000000e+00  0.00000000e+00  0.00000000e+00\n",
       "   0.00000000e+00  0.00000000e+00  0.00000000e+00  0.00000000e+00\n",
       "   9.52856667e+08]]"
      ]
     },
     "execution_count": 145,
     "metadata": {},
     "output_type": "execute_result"
    }
   ],
   "source": [
    "h_gs"
   ]
  },
  {
   "cell_type": "code",
   "execution_count": 148,
   "id": "cdbc1ca5",
   "metadata": {},
   "outputs": [],
   "source": [
    "hh = np.zeros((20,20), dtype=np.cdouble)\n",
    "gs_idx = [0, h_gs.shape[0] , 0, h_gs.shape[1]]\n",
    "hh[gs_idx[0]:gs_idx[1], gs_idx[2]:gs_idx[3]] = h_gs"
   ]
  },
  {
   "cell_type": "code",
   "execution_count": 172,
   "id": "ee6843ba",
   "metadata": {},
   "outputs": [],
   "source": [
    "h_es = nves.zero_field_hamiltonian()\n",
    "h_es += nves.nitrogen_hyperfine_hamiltonian()\n",
    "h_es += nves.nitrogen_electric_quadrupole_hamiltonian()\n",
    "h_es += nves.static_mag_field_hamiltonian(static_B_field, include_nucleus = True)"
   ]
  },
  {
   "cell_type": "code",
   "execution_count": 180,
   "id": "0d7d3082",
   "metadata": {},
   "outputs": [
    {
     "data": {
      "text/latex": [
       "Quantum object: dims = [[3, 3], [3, 3]], shape = (9, 9), type = oper, isherm = True $ \\\\ \\left(\\begin{matrix}6.429\\times10^{+08} & 0.0 & 0.0 & 0.0 & 0.0 & 0.0 & 0.0 & 0.0 & 0.0\\\\0.0 & 6.500\\times10^{+08} & 0.0 & -2.700\\times10^{+06} & 0.0 & 0.0 & 0.0 & 0.0 & 0.0\\\\0.0 & 0.0 & 6.471\\times10^{+08} & 0.0 & -2.700\\times10^{+06} & 0.0 & 0.0 & 0.0 & 0.0\\\\0.0 & -2.700\\times10^{+06} & 0.0 & -1.295\\times10^{+09} & 0.0 & 0.0 & 0.0 & 0.0 & 0.0\\\\0.0 & 0.0 & -2.700\\times10^{+06} & 0.0 & -1.290\\times10^{+09} & 0.0 & -2.700\\times10^{+06} & 0.0 & 0.0\\\\0.0 & 0.0 & 0.0 & 0.0 & 0.0 & -1.295\\times10^{+09} & 0.0 & -2.700\\times10^{+06} & 0.0\\\\0.0 & 0.0 & 0.0 & 0.0 & -2.700\\times10^{+06} & 0.0 & 6.471\\times10^{+08} & 0.0 & 0.0\\\\0.0 & 0.0 & 0.0 & 0.0 & 0.0 & -2.700\\times10^{+06} & 0.0 & 6.500\\times10^{+08} & 0.0\\\\0.0 & 0.0 & 0.0 & 0.0 & 0.0 & 0.0 & 0.0 & 0.0 & 6.429\\times10^{+08}\\\\\\end{matrix}\\right)$"
      ],
      "text/plain": [
       "Quantum object: dims = [[3, 3], [3, 3]], shape = (9, 9), type = oper, isherm = True\n",
       "Qobj data =\n",
       "[[ 6.42856667e+08  0.00000000e+00  0.00000000e+00  0.00000000e+00\n",
       "   0.00000000e+00  0.00000000e+00  0.00000000e+00  0.00000000e+00\n",
       "   0.00000000e+00]\n",
       " [ 0.00000000e+00  6.50006667e+08  0.00000000e+00 -2.70000000e+06\n",
       "   0.00000000e+00  0.00000000e+00  0.00000000e+00  0.00000000e+00\n",
       "   0.00000000e+00]\n",
       " [ 0.00000000e+00  0.00000000e+00  6.47136667e+08  0.00000000e+00\n",
       "  -2.70000000e+06  0.00000000e+00  0.00000000e+00  0.00000000e+00\n",
       "   0.00000000e+00]\n",
       " [ 0.00000000e+00 -2.70000000e+06  0.00000000e+00 -1.29500333e+09\n",
       "   0.00000000e+00  0.00000000e+00  0.00000000e+00  0.00000000e+00\n",
       "   0.00000000e+00]\n",
       " [ 0.00000000e+00  0.00000000e+00 -2.70000000e+06  0.00000000e+00\n",
       "  -1.28999333e+09  0.00000000e+00 -2.70000000e+06  0.00000000e+00\n",
       "   0.00000000e+00]\n",
       " [ 0.00000000e+00  0.00000000e+00  0.00000000e+00  0.00000000e+00\n",
       "   0.00000000e+00 -1.29500333e+09  0.00000000e+00 -2.70000000e+06\n",
       "   0.00000000e+00]\n",
       " [ 0.00000000e+00  0.00000000e+00  0.00000000e+00  0.00000000e+00\n",
       "  -2.70000000e+06  0.00000000e+00  6.47136667e+08  0.00000000e+00\n",
       "   0.00000000e+00]\n",
       " [ 0.00000000e+00  0.00000000e+00  0.00000000e+00  0.00000000e+00\n",
       "   0.00000000e+00 -2.70000000e+06  0.00000000e+00  6.50006667e+08\n",
       "   0.00000000e+00]\n",
       " [ 0.00000000e+00  0.00000000e+00  0.00000000e+00  0.00000000e+00\n",
       "   0.00000000e+00  0.00000000e+00  0.00000000e+00  0.00000000e+00\n",
       "   6.42856667e+08]]"
      ]
     },
     "execution_count": 180,
     "metadata": {},
     "output_type": "execute_result"
    }
   ],
   "source": [
    "h_es"
   ]
  },
  {
   "cell_type": "code",
   "execution_count": 181,
   "id": "eb035349",
   "metadata": {},
   "outputs": [
    {
     "data": {
      "text/latex": [
       "Quantum object: dims = [[9], [9]], shape = (9, 9), type = oper, isherm = True $ \\\\ \\left(\\begin{matrix}4.700\\times10^{+14} & 0.0 & 0.0 & 0.0 & 0.0 & 0.0 & 0.0 & 0.0 & 0.0\\\\0.0 & 4.700\\times10^{+14} & 0.0 & 0.0 & 0.0 & 0.0 & 0.0 & 0.0 & 0.0\\\\0.0 & 0.0 & 4.700\\times10^{+14} & 0.0 & 0.0 & 0.0 & 0.0 & 0.0 & 0.0\\\\0.0 & 0.0 & 0.0 & 4.700\\times10^{+14} & 0.0 & 0.0 & 0.0 & 0.0 & 0.0\\\\0.0 & 0.0 & 0.0 & 0.0 & 4.700\\times10^{+14} & 0.0 & 0.0 & 0.0 & 0.0\\\\0.0 & 0.0 & 0.0 & 0.0 & 0.0 & 4.700\\times10^{+14} & 0.0 & 0.0 & 0.0\\\\0.0 & 0.0 & 0.0 & 0.0 & 0.0 & 0.0 & 4.700\\times10^{+14} & 0.0 & 0.0\\\\0.0 & 0.0 & 0.0 & 0.0 & 0.0 & 0.0 & 0.0 & 4.700\\times10^{+14} & 0.0\\\\0.0 & 0.0 & 0.0 & 0.0 & 0.0 & 0.0 & 0.0 & 0.0 & 4.700\\times10^{+14}\\\\\\end{matrix}\\right)$"
      ],
      "text/plain": [
       "Quantum object: dims = [[9], [9]], shape = (9, 9), type = oper, isherm = True\n",
       "Qobj data =\n",
       "[[4.7e+14 0.0e+00 0.0e+00 0.0e+00 0.0e+00 0.0e+00 0.0e+00 0.0e+00 0.0e+00]\n",
       " [0.0e+00 4.7e+14 0.0e+00 0.0e+00 0.0e+00 0.0e+00 0.0e+00 0.0e+00 0.0e+00]\n",
       " [0.0e+00 0.0e+00 4.7e+14 0.0e+00 0.0e+00 0.0e+00 0.0e+00 0.0e+00 0.0e+00]\n",
       " [0.0e+00 0.0e+00 0.0e+00 4.7e+14 0.0e+00 0.0e+00 0.0e+00 0.0e+00 0.0e+00]\n",
       " [0.0e+00 0.0e+00 0.0e+00 0.0e+00 4.7e+14 0.0e+00 0.0e+00 0.0e+00 0.0e+00]\n",
       " [0.0e+00 0.0e+00 0.0e+00 0.0e+00 0.0e+00 4.7e+14 0.0e+00 0.0e+00 0.0e+00]\n",
       " [0.0e+00 0.0e+00 0.0e+00 0.0e+00 0.0e+00 0.0e+00 4.7e+14 0.0e+00 0.0e+00]\n",
       " [0.0e+00 0.0e+00 0.0e+00 0.0e+00 0.0e+00 0.0e+00 0.0e+00 4.7e+14 0.0e+00]\n",
       " [0.0e+00 0.0e+00 0.0e+00 0.0e+00 0.0e+00 0.0e+00 0.0e+00 0.0e+00 4.7e+14]]"
      ]
     },
     "execution_count": 181,
     "metadata": {},
     "output_type": "execute_result"
    }
   ],
   "source": [
    "470e12*qutip.qeye(h_es.shape[0])"
   ]
  },
  {
   "cell_type": "code",
   "execution_count": 183,
   "id": "05652cdc",
   "metadata": {},
   "outputs": [
    {
     "data": {
      "text/plain": [
       "[[3, 3], [3, 3]]"
      ]
     },
     "execution_count": 183,
     "metadata": {},
     "output_type": "execute_result"
    }
   ],
   "source": [
    "h_es.dims"
   ]
  },
  {
   "cell_type": "code",
   "execution_count": null,
   "id": "0ad170c4",
   "metadata": {},
   "outputs": [],
   "source": []
  },
  {
   "cell_type": "code",
   "execution_count": 182,
   "id": "b3a1f2fb",
   "metadata": {},
   "outputs": [
    {
     "ename": "TypeError",
     "evalue": "Incompatible quantum object dimensions",
     "output_type": "error",
     "traceback": [
      "\u001b[0;31m---------------------------------------------------------------------------\u001b[0m",
      "\u001b[0;31mTypeError\u001b[0m                                 Traceback (most recent call last)",
      "Cell \u001b[0;32mIn[182], line 1\u001b[0m\n\u001b[0;32m----> 1\u001b[0m \u001b[43mh_es\u001b[49m\u001b[43m \u001b[49m\u001b[38;5;241;43m+\u001b[39;49m\u001b[43m \u001b[49m\u001b[38;5;241;43m470e12\u001b[39;49m\u001b[38;5;241;43m*\u001b[39;49m\u001b[43mqutip\u001b[49m\u001b[38;5;241;43m.\u001b[39;49m\u001b[43mqeye\u001b[49m\u001b[43m(\u001b[49m\u001b[43mh_es\u001b[49m\u001b[38;5;241;43m.\u001b[39;49m\u001b[43mshape\u001b[49m\u001b[43m[\u001b[49m\u001b[38;5;241;43m0\u001b[39;49m\u001b[43m]\u001b[49m\u001b[43m)\u001b[49m\n",
      "File \u001b[0;32m~/miniconda3/envs/nvmodels/lib/python3.10/site-packages/qutip/qobj.py:435\u001b[0m, in \u001b[0;36mQobj.__add__\u001b[0;34m(self, other)\u001b[0m\n\u001b[1;32m    432\u001b[0m     \u001b[38;5;28;01mreturn\u001b[39;00m out\n\u001b[1;32m    434\u001b[0m \u001b[38;5;28;01melif\u001b[39;00m \u001b[38;5;28mself\u001b[39m\u001b[38;5;241m.\u001b[39mdims \u001b[38;5;241m!=\u001b[39m other\u001b[38;5;241m.\u001b[39mdims:\n\u001b[0;32m--> 435\u001b[0m     \u001b[38;5;28;01mraise\u001b[39;00m \u001b[38;5;167;01mTypeError\u001b[39;00m(\u001b[38;5;124m'\u001b[39m\u001b[38;5;124mIncompatible quantum object dimensions\u001b[39m\u001b[38;5;124m'\u001b[39m)\n\u001b[1;32m    437\u001b[0m \u001b[38;5;28;01melif\u001b[39;00m \u001b[38;5;28mself\u001b[39m\u001b[38;5;241m.\u001b[39mshape \u001b[38;5;241m!=\u001b[39m other\u001b[38;5;241m.\u001b[39mshape:\n\u001b[1;32m    438\u001b[0m     \u001b[38;5;28;01mraise\u001b[39;00m \u001b[38;5;167;01mTypeError\u001b[39;00m(\u001b[38;5;124m'\u001b[39m\u001b[38;5;124mMatrix shapes do not match\u001b[39m\u001b[38;5;124m'\u001b[39m)\n",
      "\u001b[0;31mTypeError\u001b[0m: Incompatible quantum object dimensions"
     ]
    }
   ],
   "source": [
    "h_es + 470e12*qutip.qeye(h_es.shape[0])"
   ]
  },
  {
   "cell_type": "code",
   "execution_count": 151,
   "id": "6a979763",
   "metadata": {},
   "outputs": [],
   "source": [
    "es_idx = [gs_idx[1], gs_idx[1] + h_es.shape[0] , gs_idx[3], gs_idx[3] + h_es.shape[1]]"
   ]
  },
  {
   "cell_type": "code",
   "execution_count": 152,
   "id": "f2bca2f2",
   "metadata": {},
   "outputs": [],
   "source": [
    "hh[es_idx[0]:es_idx[1], es_idx[2]:es_idx[3]] = h_es"
   ]
  },
  {
   "cell_type": "code",
   "execution_count": 153,
   "id": "71c19483",
   "metadata": {},
   "outputs": [],
   "source": [
    "ss_idx = [es_idx[1], es_idx[1] + 2 , es_idx[3], es_idx[3] + 2]"
   ]
  },
  {
   "cell_type": "code",
   "execution_count": 154,
   "id": "c325db37",
   "metadata": {},
   "outputs": [],
   "source": [
    "hh[ss_idx[0]:ss_idx[1], ss_idx[2]:ss_idx[3]]  = np.eye(2)"
   ]
  },
  {
   "cell_type": "code",
   "execution_count": 155,
   "id": "61dddc0f",
   "metadata": {},
   "outputs": [
    {
     "data": {
      "text/latex": [
       "Quantum object: dims = [[20], [20]], shape = (20, 20), type = oper, isherm = True $ \\\\ \\left(\\begin{matrix}9.529\\times10^{+08} & 0.0 & 0.0 & 0.0 & 0.0 & \\cdots & 0.0 & 0.0 & 0.0 & 0.0 & 0.0\\\\0.0 & 9.600\\times10^{+08} & 0.0 & -2.700\\times10^{+06} & 0.0 & \\cdots & 0.0 & 0.0 & 0.0 & 0.0 & 0.0\\\\0.0 & 0.0 & 9.571\\times10^{+08} & 0.0 & -2.700\\times10^{+06} & \\cdots & 0.0 & 0.0 & 0.0 & 0.0 & 0.0\\\\0.0 & -2.700\\times10^{+06} & 0.0 & -1.915\\times10^{+09} & 0.0 & \\cdots & 0.0 & 0.0 & 0.0 & 0.0 & 0.0\\\\0.0 & 0.0 & -2.700\\times10^{+06} & 0.0 & -1.910\\times10^{+09} & \\cdots & 0.0 & 0.0 & 0.0 & 0.0 & 0.0\\\\\\vdots & \\vdots & \\vdots & \\vdots & \\vdots & \\ddots & \\vdots & \\vdots & \\vdots & \\vdots & \\vdots\\\\0.0 & 0.0 & 0.0 & 0.0 & 0.0 & \\cdots & 6.471\\times10^{+08} & 0.0 & 0.0 & 0.0 & 0.0\\\\0.0 & 0.0 & 0.0 & 0.0 & 0.0 & \\cdots & 0.0 & 6.500\\times10^{+08} & 0.0 & 0.0 & 0.0\\\\0.0 & 0.0 & 0.0 & 0.0 & 0.0 & \\cdots & 0.0 & 0.0 & 6.429\\times10^{+08} & 0.0 & 0.0\\\\0.0 & 0.0 & 0.0 & 0.0 & 0.0 & \\cdots & 0.0 & 0.0 & 0.0 & 1.0 & 0.0\\\\0.0 & 0.0 & 0.0 & 0.0 & 0.0 & \\cdots & 0.0 & 0.0 & 0.0 & 0.0 & 1.0\\\\\\end{matrix}\\right)$"
      ],
      "text/plain": [
       "Quantum object: dims = [[20], [20]], shape = (20, 20), type = oper, isherm = True\n",
       "Qobj data =\n",
       "[[ 9.52856667e+08  0.00000000e+00  0.00000000e+00  0.00000000e+00\n",
       "   0.00000000e+00  0.00000000e+00  0.00000000e+00  0.00000000e+00\n",
       "   0.00000000e+00  0.00000000e+00  0.00000000e+00  0.00000000e+00\n",
       "   0.00000000e+00  0.00000000e+00  0.00000000e+00  0.00000000e+00\n",
       "   0.00000000e+00  0.00000000e+00  0.00000000e+00  0.00000000e+00]\n",
       " [ 0.00000000e+00  9.60006667e+08  0.00000000e+00 -2.70000000e+06\n",
       "   0.00000000e+00  0.00000000e+00  0.00000000e+00  0.00000000e+00\n",
       "   0.00000000e+00  0.00000000e+00  0.00000000e+00  0.00000000e+00\n",
       "   0.00000000e+00  0.00000000e+00  0.00000000e+00  0.00000000e+00\n",
       "   0.00000000e+00  0.00000000e+00  0.00000000e+00  0.00000000e+00]\n",
       " [ 0.00000000e+00  0.00000000e+00  9.57136667e+08  0.00000000e+00\n",
       "  -2.70000000e+06  0.00000000e+00  0.00000000e+00  0.00000000e+00\n",
       "   0.00000000e+00  0.00000000e+00  0.00000000e+00  0.00000000e+00\n",
       "   0.00000000e+00  0.00000000e+00  0.00000000e+00  0.00000000e+00\n",
       "   0.00000000e+00  0.00000000e+00  0.00000000e+00  0.00000000e+00]\n",
       " [ 0.00000000e+00 -2.70000000e+06  0.00000000e+00 -1.91500333e+09\n",
       "   0.00000000e+00  0.00000000e+00  0.00000000e+00  0.00000000e+00\n",
       "   0.00000000e+00  0.00000000e+00  0.00000000e+00  0.00000000e+00\n",
       "   0.00000000e+00  0.00000000e+00  0.00000000e+00  0.00000000e+00\n",
       "   0.00000000e+00  0.00000000e+00  0.00000000e+00  0.00000000e+00]\n",
       " [ 0.00000000e+00  0.00000000e+00 -2.70000000e+06  0.00000000e+00\n",
       "  -1.90999333e+09  0.00000000e+00 -2.70000000e+06  0.00000000e+00\n",
       "   0.00000000e+00  0.00000000e+00  0.00000000e+00  0.00000000e+00\n",
       "   0.00000000e+00  0.00000000e+00  0.00000000e+00  0.00000000e+00\n",
       "   0.00000000e+00  0.00000000e+00  0.00000000e+00  0.00000000e+00]\n",
       " [ 0.00000000e+00  0.00000000e+00  0.00000000e+00  0.00000000e+00\n",
       "   0.00000000e+00 -1.91500333e+09  0.00000000e+00 -2.70000000e+06\n",
       "   0.00000000e+00  0.00000000e+00  0.00000000e+00  0.00000000e+00\n",
       "   0.00000000e+00  0.00000000e+00  0.00000000e+00  0.00000000e+00\n",
       "   0.00000000e+00  0.00000000e+00  0.00000000e+00  0.00000000e+00]\n",
       " [ 0.00000000e+00  0.00000000e+00  0.00000000e+00  0.00000000e+00\n",
       "  -2.70000000e+06  0.00000000e+00  9.57136667e+08  0.00000000e+00\n",
       "   0.00000000e+00  0.00000000e+00  0.00000000e+00  0.00000000e+00\n",
       "   0.00000000e+00  0.00000000e+00  0.00000000e+00  0.00000000e+00\n",
       "   0.00000000e+00  0.00000000e+00  0.00000000e+00  0.00000000e+00]\n",
       " [ 0.00000000e+00  0.00000000e+00  0.00000000e+00  0.00000000e+00\n",
       "   0.00000000e+00 -2.70000000e+06  0.00000000e+00  9.60006667e+08\n",
       "   0.00000000e+00  0.00000000e+00  0.00000000e+00  0.00000000e+00\n",
       "   0.00000000e+00  0.00000000e+00  0.00000000e+00  0.00000000e+00\n",
       "   0.00000000e+00  0.00000000e+00  0.00000000e+00  0.00000000e+00]\n",
       " [ 0.00000000e+00  0.00000000e+00  0.00000000e+00  0.00000000e+00\n",
       "   0.00000000e+00  0.00000000e+00  0.00000000e+00  0.00000000e+00\n",
       "   9.52856667e+08  0.00000000e+00  0.00000000e+00  0.00000000e+00\n",
       "   0.00000000e+00  0.00000000e+00  0.00000000e+00  0.00000000e+00\n",
       "   0.00000000e+00  0.00000000e+00  0.00000000e+00  0.00000000e+00]\n",
       " [ 0.00000000e+00  0.00000000e+00  0.00000000e+00  0.00000000e+00\n",
       "   0.00000000e+00  0.00000000e+00  0.00000000e+00  0.00000000e+00\n",
       "   0.00000000e+00  6.42856667e+08  0.00000000e+00  0.00000000e+00\n",
       "   0.00000000e+00  0.00000000e+00  0.00000000e+00  0.00000000e+00\n",
       "   0.00000000e+00  0.00000000e+00  0.00000000e+00  0.00000000e+00]\n",
       " [ 0.00000000e+00  0.00000000e+00  0.00000000e+00  0.00000000e+00\n",
       "   0.00000000e+00  0.00000000e+00  0.00000000e+00  0.00000000e+00\n",
       "   0.00000000e+00  0.00000000e+00  6.50006667e+08  0.00000000e+00\n",
       "  -2.70000000e+06  0.00000000e+00  0.00000000e+00  0.00000000e+00\n",
       "   0.00000000e+00  0.00000000e+00  0.00000000e+00  0.00000000e+00]\n",
       " [ 0.00000000e+00  0.00000000e+00  0.00000000e+00  0.00000000e+00\n",
       "   0.00000000e+00  0.00000000e+00  0.00000000e+00  0.00000000e+00\n",
       "   0.00000000e+00  0.00000000e+00  0.00000000e+00  6.47136667e+08\n",
       "   0.00000000e+00 -2.70000000e+06  0.00000000e+00  0.00000000e+00\n",
       "   0.00000000e+00  0.00000000e+00  0.00000000e+00  0.00000000e+00]\n",
       " [ 0.00000000e+00  0.00000000e+00  0.00000000e+00  0.00000000e+00\n",
       "   0.00000000e+00  0.00000000e+00  0.00000000e+00  0.00000000e+00\n",
       "   0.00000000e+00  0.00000000e+00 -2.70000000e+06  0.00000000e+00\n",
       "  -1.29500333e+09  0.00000000e+00  0.00000000e+00  0.00000000e+00\n",
       "   0.00000000e+00  0.00000000e+00  0.00000000e+00  0.00000000e+00]\n",
       " [ 0.00000000e+00  0.00000000e+00  0.00000000e+00  0.00000000e+00\n",
       "   0.00000000e+00  0.00000000e+00  0.00000000e+00  0.00000000e+00\n",
       "   0.00000000e+00  0.00000000e+00  0.00000000e+00 -2.70000000e+06\n",
       "   0.00000000e+00 -1.28999333e+09  0.00000000e+00 -2.70000000e+06\n",
       "   0.00000000e+00  0.00000000e+00  0.00000000e+00  0.00000000e+00]\n",
       " [ 0.00000000e+00  0.00000000e+00  0.00000000e+00  0.00000000e+00\n",
       "   0.00000000e+00  0.00000000e+00  0.00000000e+00  0.00000000e+00\n",
       "   0.00000000e+00  0.00000000e+00  0.00000000e+00  0.00000000e+00\n",
       "   0.00000000e+00  0.00000000e+00 -1.29500333e+09  0.00000000e+00\n",
       "  -2.70000000e+06  0.00000000e+00  0.00000000e+00  0.00000000e+00]\n",
       " [ 0.00000000e+00  0.00000000e+00  0.00000000e+00  0.00000000e+00\n",
       "   0.00000000e+00  0.00000000e+00  0.00000000e+00  0.00000000e+00\n",
       "   0.00000000e+00  0.00000000e+00  0.00000000e+00  0.00000000e+00\n",
       "   0.00000000e+00 -2.70000000e+06  0.00000000e+00  6.47136667e+08\n",
       "   0.00000000e+00  0.00000000e+00  0.00000000e+00  0.00000000e+00]\n",
       " [ 0.00000000e+00  0.00000000e+00  0.00000000e+00  0.00000000e+00\n",
       "   0.00000000e+00  0.00000000e+00  0.00000000e+00  0.00000000e+00\n",
       "   0.00000000e+00  0.00000000e+00  0.00000000e+00  0.00000000e+00\n",
       "   0.00000000e+00  0.00000000e+00 -2.70000000e+06  0.00000000e+00\n",
       "   6.50006667e+08  0.00000000e+00  0.00000000e+00  0.00000000e+00]\n",
       " [ 0.00000000e+00  0.00000000e+00  0.00000000e+00  0.00000000e+00\n",
       "   0.00000000e+00  0.00000000e+00  0.00000000e+00  0.00000000e+00\n",
       "   0.00000000e+00  0.00000000e+00  0.00000000e+00  0.00000000e+00\n",
       "   0.00000000e+00  0.00000000e+00  0.00000000e+00  0.00000000e+00\n",
       "   0.00000000e+00  6.42856667e+08  0.00000000e+00  0.00000000e+00]\n",
       " [ 0.00000000e+00  0.00000000e+00  0.00000000e+00  0.00000000e+00\n",
       "   0.00000000e+00  0.00000000e+00  0.00000000e+00  0.00000000e+00\n",
       "   0.00000000e+00  0.00000000e+00  0.00000000e+00  0.00000000e+00\n",
       "   0.00000000e+00  0.00000000e+00  0.00000000e+00  0.00000000e+00\n",
       "   0.00000000e+00  0.00000000e+00  1.00000000e+00  0.00000000e+00]\n",
       " [ 0.00000000e+00  0.00000000e+00  0.00000000e+00  0.00000000e+00\n",
       "   0.00000000e+00  0.00000000e+00  0.00000000e+00  0.00000000e+00\n",
       "   0.00000000e+00  0.00000000e+00  0.00000000e+00  0.00000000e+00\n",
       "   0.00000000e+00  0.00000000e+00  0.00000000e+00  0.00000000e+00\n",
       "   0.00000000e+00  0.00000000e+00  0.00000000e+00  1.00000000e+00]]"
      ]
     },
     "execution_count": 155,
     "metadata": {},
     "output_type": "execute_result"
    }
   ],
   "source": [
    "qutip.Qobj(hh)"
   ]
  },
  {
   "cell_type": "code",
   "execution_count": 156,
   "id": "bd6db222",
   "metadata": {},
   "outputs": [
    {
     "data": {
      "text/latex": [
       "Quantum object: dims = [[9], [9]], shape = (9, 9), type = oper, isherm = True $ \\\\ \\left(\\begin{matrix}6.429\\times10^{+08} & 0.0 & 0.0 & 0.0 & 0.0 & 0.0 & 0.0 & 0.0 & 0.0\\\\0.0 & 6.500\\times10^{+08} & 0.0 & -2.700\\times10^{+06} & 0.0 & 0.0 & 0.0 & 0.0 & 0.0\\\\0.0 & 0.0 & 6.471\\times10^{+08} & 0.0 & -2.700\\times10^{+06} & 0.0 & 0.0 & 0.0 & 0.0\\\\0.0 & -2.700\\times10^{+06} & 0.0 & -1.295\\times10^{+09} & 0.0 & 0.0 & 0.0 & 0.0 & 0.0\\\\0.0 & 0.0 & -2.700\\times10^{+06} & 0.0 & -1.290\\times10^{+09} & 0.0 & -2.700\\times10^{+06} & 0.0 & 0.0\\\\0.0 & 0.0 & 0.0 & 0.0 & 0.0 & -1.295\\times10^{+09} & 0.0 & -2.700\\times10^{+06} & 0.0\\\\0.0 & 0.0 & 0.0 & 0.0 & -2.700\\times10^{+06} & 0.0 & 6.471\\times10^{+08} & 0.0 & 0.0\\\\0.0 & 0.0 & 0.0 & 0.0 & 0.0 & -2.700\\times10^{+06} & 0.0 & 6.500\\times10^{+08} & 0.0\\\\0.0 & 0.0 & 0.0 & 0.0 & 0.0 & 0.0 & 0.0 & 0.0 & 6.429\\times10^{+08}\\\\\\end{matrix}\\right)$"
      ],
      "text/plain": [
       "Quantum object: dims = [[9], [9]], shape = (9, 9), type = oper, isherm = True\n",
       "Qobj data =\n",
       "[[ 6.42856667e+08  0.00000000e+00  0.00000000e+00  0.00000000e+00\n",
       "   0.00000000e+00  0.00000000e+00  0.00000000e+00  0.00000000e+00\n",
       "   0.00000000e+00]\n",
       " [ 0.00000000e+00  6.50006667e+08  0.00000000e+00 -2.70000000e+06\n",
       "   0.00000000e+00  0.00000000e+00  0.00000000e+00  0.00000000e+00\n",
       "   0.00000000e+00]\n",
       " [ 0.00000000e+00  0.00000000e+00  6.47136667e+08  0.00000000e+00\n",
       "  -2.70000000e+06  0.00000000e+00  0.00000000e+00  0.00000000e+00\n",
       "   0.00000000e+00]\n",
       " [ 0.00000000e+00 -2.70000000e+06  0.00000000e+00 -1.29500333e+09\n",
       "   0.00000000e+00  0.00000000e+00  0.00000000e+00  0.00000000e+00\n",
       "   0.00000000e+00]\n",
       " [ 0.00000000e+00  0.00000000e+00 -2.70000000e+06  0.00000000e+00\n",
       "  -1.28999333e+09  0.00000000e+00 -2.70000000e+06  0.00000000e+00\n",
       "   0.00000000e+00]\n",
       " [ 0.00000000e+00  0.00000000e+00  0.00000000e+00  0.00000000e+00\n",
       "   0.00000000e+00 -1.29500333e+09  0.00000000e+00 -2.70000000e+06\n",
       "   0.00000000e+00]\n",
       " [ 0.00000000e+00  0.00000000e+00  0.00000000e+00  0.00000000e+00\n",
       "  -2.70000000e+06  0.00000000e+00  6.47136667e+08  0.00000000e+00\n",
       "   0.00000000e+00]\n",
       " [ 0.00000000e+00  0.00000000e+00  0.00000000e+00  0.00000000e+00\n",
       "   0.00000000e+00 -2.70000000e+06  0.00000000e+00  6.50006667e+08\n",
       "   0.00000000e+00]\n",
       " [ 0.00000000e+00  0.00000000e+00  0.00000000e+00  0.00000000e+00\n",
       "   0.00000000e+00  0.00000000e+00  0.00000000e+00  0.00000000e+00\n",
       "   6.42856667e+08]]"
      ]
     },
     "execution_count": 156,
     "metadata": {},
     "output_type": "execute_result"
    }
   ],
   "source": [
    "qutip.Qobj(hh[es_idx[0]:es_idx[1], es_idx[2]:es_idx[3]])"
   ]
  },
  {
   "cell_type": "code",
   "execution_count": 157,
   "id": "2899546f",
   "metadata": {},
   "outputs": [
    {
     "data": {
      "text/latex": [
       "Quantum object: dims = [[9], [9]], shape = (9, 9), type = oper, isherm = True $ \\\\ \\left(\\begin{matrix}9.529\\times10^{+08} & 0.0 & 0.0 & 0.0 & 0.0 & 0.0 & 0.0 & 0.0 & 0.0\\\\0.0 & 9.600\\times10^{+08} & 0.0 & -2.700\\times10^{+06} & 0.0 & 0.0 & 0.0 & 0.0 & 0.0\\\\0.0 & 0.0 & 9.571\\times10^{+08} & 0.0 & -2.700\\times10^{+06} & 0.0 & 0.0 & 0.0 & 0.0\\\\0.0 & -2.700\\times10^{+06} & 0.0 & -1.915\\times10^{+09} & 0.0 & 0.0 & 0.0 & 0.0 & 0.0\\\\0.0 & 0.0 & -2.700\\times10^{+06} & 0.0 & -1.910\\times10^{+09} & 0.0 & -2.700\\times10^{+06} & 0.0 & 0.0\\\\0.0 & 0.0 & 0.0 & 0.0 & 0.0 & -1.915\\times10^{+09} & 0.0 & -2.700\\times10^{+06} & 0.0\\\\0.0 & 0.0 & 0.0 & 0.0 & -2.700\\times10^{+06} & 0.0 & 9.571\\times10^{+08} & 0.0 & 0.0\\\\0.0 & 0.0 & 0.0 & 0.0 & 0.0 & -2.700\\times10^{+06} & 0.0 & 9.600\\times10^{+08} & 0.0\\\\0.0 & 0.0 & 0.0 & 0.0 & 0.0 & 0.0 & 0.0 & 0.0 & 9.529\\times10^{+08}\\\\\\end{matrix}\\right)$"
      ],
      "text/plain": [
       "Quantum object: dims = [[9], [9]], shape = (9, 9), type = oper, isherm = True\n",
       "Qobj data =\n",
       "[[ 9.52856667e+08  0.00000000e+00  0.00000000e+00  0.00000000e+00\n",
       "   0.00000000e+00  0.00000000e+00  0.00000000e+00  0.00000000e+00\n",
       "   0.00000000e+00]\n",
       " [ 0.00000000e+00  9.60006667e+08  0.00000000e+00 -2.70000000e+06\n",
       "   0.00000000e+00  0.00000000e+00  0.00000000e+00  0.00000000e+00\n",
       "   0.00000000e+00]\n",
       " [ 0.00000000e+00  0.00000000e+00  9.57136667e+08  0.00000000e+00\n",
       "  -2.70000000e+06  0.00000000e+00  0.00000000e+00  0.00000000e+00\n",
       "   0.00000000e+00]\n",
       " [ 0.00000000e+00 -2.70000000e+06  0.00000000e+00 -1.91500333e+09\n",
       "   0.00000000e+00  0.00000000e+00  0.00000000e+00  0.00000000e+00\n",
       "   0.00000000e+00]\n",
       " [ 0.00000000e+00  0.00000000e+00 -2.70000000e+06  0.00000000e+00\n",
       "  -1.90999333e+09  0.00000000e+00 -2.70000000e+06  0.00000000e+00\n",
       "   0.00000000e+00]\n",
       " [ 0.00000000e+00  0.00000000e+00  0.00000000e+00  0.00000000e+00\n",
       "   0.00000000e+00 -1.91500333e+09  0.00000000e+00 -2.70000000e+06\n",
       "   0.00000000e+00]\n",
       " [ 0.00000000e+00  0.00000000e+00  0.00000000e+00  0.00000000e+00\n",
       "  -2.70000000e+06  0.00000000e+00  9.57136667e+08  0.00000000e+00\n",
       "   0.00000000e+00]\n",
       " [ 0.00000000e+00  0.00000000e+00  0.00000000e+00  0.00000000e+00\n",
       "   0.00000000e+00 -2.70000000e+06  0.00000000e+00  9.60006667e+08\n",
       "   0.00000000e+00]\n",
       " [ 0.00000000e+00  0.00000000e+00  0.00000000e+00  0.00000000e+00\n",
       "   0.00000000e+00  0.00000000e+00  0.00000000e+00  0.00000000e+00\n",
       "   9.52856667e+08]]"
      ]
     },
     "execution_count": 157,
     "metadata": {},
     "output_type": "execute_result"
    }
   ],
   "source": [
    "qutip.Qobj(hh[gs_idx[0]:gs_idx[1], gs_idx[2]:gs_idx[3]])"
   ]
  },
  {
   "cell_type": "code",
   "execution_count": 158,
   "id": "09cf815f",
   "metadata": {},
   "outputs": [
    {
     "data": {
      "text/latex": [
       "Quantum object: dims = [[2], [2]], shape = (2, 2), type = oper, isherm = True $ \\\\ \\left(\\begin{matrix}1.0 & 0.0\\\\0.0 & 1.0\\\\\\end{matrix}\\right)$"
      ],
      "text/plain": [
       "Quantum object: dims = [[2], [2]], shape = (2, 2), type = oper, isherm = True\n",
       "Qobj data =\n",
       "[[1. 0.]\n",
       " [0. 1.]]"
      ]
     },
     "execution_count": 158,
     "metadata": {},
     "output_type": "execute_result"
    }
   ],
   "source": [
    "qutip.Qobj(hh[ss_idx[0]:ss_idx[1], ss_idx[2]:ss_idx[3]])"
   ]
  },
  {
   "cell_type": "code",
   "execution_count": 159,
   "id": "21fbb989",
   "metadata": {},
   "outputs": [],
   "source": [
    "hh_full = qutip.Qobj(hh)"
   ]
  },
  {
   "cell_type": "code",
   "execution_count": 160,
   "id": "9b857638",
   "metadata": {},
   "outputs": [],
   "source": [
    "eigenvalues, eigenstates = hh_full.eigenstates()\n"
   ]
  },
  {
   "cell_type": "code",
   "execution_count": 161,
   "id": "5a5bea99",
   "metadata": {},
   "outputs": [
    {
     "data": {
      "text/latex": [
       "Quantum object: dims = [[20], [1]], shape = (20, 1), type = ket $ \\\\ \\left(\\begin{matrix}0.0\\\\9.391\\times10^{-04}\\\\0.0\\\\1.000\\\\0.0\\\\\\vdots\\\\0.0\\\\0.0\\\\0.0\\\\0.0\\\\0.0\\\\\\end{matrix}\\right)$"
      ],
      "text/plain": [
       "Quantum object: dims = [[20], [1]], shape = (20, 1), type = ket\n",
       "Qobj data =\n",
       "[[0.00000000e+00]\n",
       " [9.39125926e-04]\n",
       " [0.00000000e+00]\n",
       " [9.99999559e-01]\n",
       " [0.00000000e+00]\n",
       " [0.00000000e+00]\n",
       " [0.00000000e+00]\n",
       " [0.00000000e+00]\n",
       " [0.00000000e+00]\n",
       " [0.00000000e+00]\n",
       " [0.00000000e+00]\n",
       " [0.00000000e+00]\n",
       " [0.00000000e+00]\n",
       " [0.00000000e+00]\n",
       " [0.00000000e+00]\n",
       " [0.00000000e+00]\n",
       " [0.00000000e+00]\n",
       " [0.00000000e+00]\n",
       " [0.00000000e+00]\n",
       " [0.00000000e+00]]"
      ]
     },
     "execution_count": 161,
     "metadata": {},
     "output_type": "execute_result"
    }
   ],
   "source": [
    "eigenstates[0]"
   ]
  },
  {
   "cell_type": "code",
   "execution_count": 162,
   "id": "7a6f83d5",
   "metadata": {},
   "outputs": [
    {
     "data": {
      "text/plain": [
       "Text(0.5, 0, 'State index')"
      ]
     },
     "execution_count": 162,
     "metadata": {},
     "output_type": "execute_result"
    },
    {
     "data": {
      "image/png": "[encoded data removed]",
      "text/plain": [
       "<Figure size 640x480 with 1 Axes>"
      ]
     },
     "metadata": {},
     "output_type": "display_data"
    }
   ],
   "source": [
    "state_probs_text = [f'{i}' for i,s in enumerate(eigenstates)]\n",
    "\n",
    "fig, ax = nvmodels.plotting.plot_eigenspectrum_mpl(eigenvalues, state_probs_text)\n",
    "ax.set_ylabel('Energy (Hz)')\n",
    "ax.set_xlabel('State index')"
   ]
  },
  {
   "cell_type": "code",
   "execution_count": 164,
   "id": "18a6efb7",
   "metadata": {},
   "outputs": [
    {
     "data": {
      "text/plain": [
       "0.6199987875956321"
      ]
     },
     "execution_count": 164,
     "metadata": {},
     "output_type": "execute_result"
    }
   ],
   "source": [
    "(eigenvalues[3] - eigenvalues[0])*1e-9 # in GHz"
   ]
  },
  {
   "cell_type": "code",
   "execution_count": 166,
   "id": "9517c239",
   "metadata": {},
   "outputs": [],
   "source": [
    "wavelength = 3e8/(eigenvalues[3] - eigenvalues[0])"
   ]
  },
  {
   "cell_type": "code",
   "execution_count": 184,
   "id": "5316f052",
   "metadata": {},
   "outputs": [
    {
     "data": {
      "text/plain": [
       "2.867862535641119"
      ]
     },
     "execution_count": 184,
     "metadata": {},
     "output_type": "execute_result"
    }
   ],
   "source": [
    "(eigenvalues[14] - eigenvalues[0])*1e-9 # in GHz"
   ]
  },
  {
   "cell_type": "code",
   "execution_count": 168,
   "id": "cc99fc81",
   "metadata": {},
   "outputs": [],
   "source": [
    "#what is the frequency of light that excites from 3A2 to 3E?\n",
    "c = 3e8\n",
    "wavelength = 637e-9\n",
    "freq = c / wavelength"
   ]
  },
  {
   "cell_type": "code",
   "execution_count": 171,
   "id": "55107488",
   "metadata": {},
   "outputs": [
    {
     "data": {
      "text/plain": [
       "470.95761381475666"
      ]
     },
     "execution_count": 171,
     "metadata": {},
     "output_type": "execute_result"
    }
   ],
   "source": [
    "freq*1e-12 #470 THz"
   ]
  },
  {
   "cell_type": "raw",
   "id": "8d48d60c",
   "metadata": {},
   "source": [
    "the above is zero B field\n",
    "\n",
    "We can see that states 6,7 are the two ISC states\n",
    "\n",
    "states 0-2 is the 3A2 ms = 0 state\n",
    "states 3-5 is 3E ms = 0 state\n",
    "states 8-13 are the 3E ms = +-1 states\n",
    "states 14-19 are the 3A2 ms = +-1 states\n"
   ]
  },
  {
   "cell_type": "code",
   "execution_count": 185,
   "id": "83c91929",
   "metadata": {},
   "outputs": [
    {
     "name": "stdout",
     "output_type": "stream",
     "text": [
      "[0.    0.    0.005]\n"
     ]
    },
    {
     "ename": "ValueError",
     "evalue": "could not broadcast input array from shape (3,3) into shape (2,2)",
     "output_type": "error",
     "traceback": [
      "\u001b[0;31m---------------------------------------------------------------------------\u001b[0m",
      "\u001b[0;31mValueError\u001b[0m                                Traceback (most recent call last)",
      "Cell \u001b[0;32mIn[185], line 31\u001b[0m\n\u001b[1;32m     29\u001b[0m ISC_size \u001b[38;5;241m=\u001b[39m \u001b[38;5;241m3\u001b[39m\n\u001b[1;32m     30\u001b[0m ss_idx \u001b[38;5;241m=\u001b[39m [es_idx[\u001b[38;5;241m1\u001b[39m], es_idx[\u001b[38;5;241m1\u001b[39m] \u001b[38;5;241m+\u001b[39m ISC_size , es_idx[\u001b[38;5;241m3\u001b[39m], es_idx[\u001b[38;5;241m3\u001b[39m] \u001b[38;5;241m+\u001b[39m ISC_size]\n\u001b[0;32m---> 31\u001b[0m \u001b[43mhh\u001b[49m\u001b[43m[\u001b[49m\u001b[43mss_idx\u001b[49m\u001b[43m[\u001b[49m\u001b[38;5;241;43m0\u001b[39;49m\u001b[43m]\u001b[49m\u001b[43m:\u001b[49m\u001b[43mss_idx\u001b[49m\u001b[43m[\u001b[49m\u001b[38;5;241;43m1\u001b[39;49m\u001b[43m]\u001b[49m\u001b[43m,\u001b[49m\u001b[43m \u001b[49m\u001b[43mss_idx\u001b[49m\u001b[43m[\u001b[49m\u001b[38;5;241;43m2\u001b[39;49m\u001b[43m]\u001b[49m\u001b[43m:\u001b[49m\u001b[43mss_idx\u001b[49m\u001b[43m[\u001b[49m\u001b[38;5;241;43m3\u001b[39;49m\u001b[43m]\u001b[49m\u001b[43m]\u001b[49m  \u001b[38;5;241m=\u001b[39m np\u001b[38;5;241m.\u001b[39meye(ISC_size)\n",
      "\u001b[0;31mValueError\u001b[0m: could not broadcast input array from shape (3,3) into shape (2,2)"
     ]
    }
   ],
   "source": [
    "# do it again, but add a B field\n",
    "polar = 0\n",
    "azimuthal = 0\n",
    "_x = np.sin(polar)*np.cos(azimuthal)\n",
    "_y = np.sin(polar)*np.sin(azimuthal)\n",
    "_z = np.cos(polar)\n",
    "B_mag = 50e-4  # 10 Gauss in the z direction\n",
    "static_B_field = B_mag*np.array([_x, _y, _z])\n",
    "print(static_B_field)\n",
    "\n",
    "h_gs = nvgs.zero_field_hamiltonian()\n",
    "h_gs += nvgs.nitrogen_hyperfine_hamiltonian()\n",
    "h_gs += nvgs.nitrogen_electric_quadrupole_hamiltonian()\n",
    "h_gs += nvgs.static_mag_field_hamiltonian(static_B_field, include_nucleus = True)\n",
    "\n",
    "h_es = nves.zero_field_hamiltonian()\n",
    "h_es += nves.nitrogen_hyperfine_hamiltonian()\n",
    "h_es += nves.nitrogen_electric_quadrupole_hamiltonian()\n",
    "h_es += nves.static_mag_field_hamiltonian(static_B_field, include_nucleus = True)\n",
    "\n",
    "#combine into single hamiltonian\n",
    "ISC_size = 3  #note, we are neglecting 1E state which has a lifetime of 1 ns. the 1A1 lifetime is 300 ns. \n",
    "  # there are three states here, corresponding to the three nuclear spin states\n",
    "fullh_size = 18 + ISC_size \n",
    "\n",
    "hh = np.zeros((20,20), dtype=np.cdouble)\n",
    "gs_idx = [0, h_gs.shape[0] , 0, h_gs.shape[1]]\n",
    "hh[gs_idx[0]:gs_idx[1], gs_idx[2]:gs_idx[3]] = h_gs\n",
    "\n",
    "es_idx = [gs_idx[1], gs_idx[1] + h_es.shape[0] , gs_idx[3], gs_idx[3] + h_es.shape[1]]\n",
    "hh[es_idx[0]:es_idx[1], es_idx[2]:es_idx[3]] = h_es\n",
    "\n",
    "ss_idx = [es_idx[1], es_idx[1] + ISC_size , es_idx[3], es_idx[3] + ISC_size]\n",
    "hh[ss_idx[0]:ss_idx[1], ss_idx[2]:ss_idx[3]]  = np.eye(ISC_size)"
   ]
  },
  {
   "cell_type": "code",
   "execution_count": null,
   "id": "922cc23d",
   "metadata": {},
   "outputs": [],
   "source": []
  },
  {
   "cell_type": "code",
   "execution_count": null,
   "id": "723ba646",
   "metadata": {},
   "outputs": [],
   "source": [
    "gamma_03 = gamma_14 = gamma_25 = 64e6 #"
   ]
  },
  {
   "cell_type": "code",
   "execution_count": null,
   "id": "4991dbb3",
   "metadata": {},
   "outputs": [],
   "source": [
    "gamma_30 = gamma_41 = gamma_52 = 64e6 #"
   ]
  },
  {
   "cell_type": "code",
   "execution_count": 115,
   "id": "37acdee6",
   "metadata": {},
   "outputs": [],
   "source": [
    "gamma_46 = gamma_56 = 79.8e6 "
   ]
  },
  {
   "cell_type": "code",
   "execution_count": null,
   "id": "57fcc2bb",
   "metadata": {},
   "outputs": [],
   "source": [
    "gamma_36 = 11.8e6\n",
    "gamma_60 = 5.6e6"
   ]
  },
  {
   "cell_type": "code",
   "execution_count": null,
   "id": "0696c196",
   "metadata": {},
   "outputs": [],
   "source": [
    "epsilon = 0.01 #ratio of spin non-conserving transition / spontaneous emission"
   ]
  },
  {
   "cell_type": "code",
   "execution_count": 13,
   "id": "1db649a0",
   "metadata": {
    "tags": []
   },
   "outputs": [],
   "source": [
    "rf_freq = np.arange(2.0e9, 3.5e9, 1e6)"
   ]
  },
  {
   "cell_type": "code",
   "execution_count": 14,
   "id": "12101713",
   "metadata": {
    "tags": []
   },
   "outputs": [],
   "source": [
    "energy_transitions = nv.electron_spin_resonances(h)\n",
    "contrast = 1 + np.array([nvmodels.utilities.lorentzian(rf_freq, e, -0.01, 10e6) for e in energy_transitions]).sum(axis=0)"
   ]
  },
  {
   "cell_type": "code",
   "execution_count": 15,
   "id": "b0fb764b",
   "metadata": {
    "tags": []
   },
   "outputs": [
    {
     "data": {
      "text/plain": [
       "[<matplotlib.lines.Line2D at 0x7f86203afb80>]"
      ]
     },
     "execution_count": 15,
     "metadata": {},
     "output_type": "execute_result"
    },
    {
     "data": {
      "image/png": "[encoded data removed]",
      "text/plain": [
       "<Figure size 640x480 with 1 Axes>"
      ]
     },
     "metadata": {},
     "output_type": "display_data"
    }
   ],
   "source": [
    "fix,ax = plt.subplots()\n",
    "\n",
    "plt.plot(rf_freq, contrast)"
   ]
  },
  {
   "cell_type": "code",
   "execution_count": 16,
   "id": "13c134c9",
   "metadata": {
    "tags": []
   },
   "outputs": [],
   "source": [
    "# hyperfine splitting\n",
    "\n",
    "rf_freq = np.arange(2.586e9, 2.594e9, .05e6)\n",
    "contrast = 1 + np.array([nvmodels.utilities.lorentzian(rf_freq, e, -.1, .1e6) for e in energy_transitions]).sum(axis=0)"
   ]
  },
  {
   "cell_type": "code",
   "execution_count": 17,
   "id": "ea05888a",
   "metadata": {
    "tags": []
   },
   "outputs": [
    {
     "data": {
      "text/plain": [
       "[<matplotlib.lines.Line2D at 0x7f8623072b90>]"
      ]
     },
     "execution_count": 17,
     "metadata": {},
     "output_type": "execute_result"
    },
    {
     "data": {
      "image/png": "[encoded data removed]",
      "text/plain": [
       "<Figure size 640x480 with 1 Axes>"
      ]
     },
     "metadata": {},
     "output_type": "display_data"
    }
   ],
   "source": [
    "fix,ax = plt.subplots()\n",
    "plt.plot(rf_freq, contrast)"
   ]
  },
  {
   "cell_type": "markdown",
   "id": "e333d846-05f0-466f-9889-e95e79c9e1c0",
   "metadata": {
    "tags": []
   },
   "source": [
    "## All 4 orientations\n",
    "\n",
    "For ensembles of NV centers, we will have NV centers oriented in four different ways, according to the crystal structure of diamond. \n",
    "We want to add the other three NV center orientations but use the same B field that is was applied to our NV center above.\n",
    "We need to find the rotation to the other three NV center axis"
   ]
  },
  {
   "cell_type": "code",
   "execution_count": 18,
   "id": "49b054f0-fd98-4fed-b1dc-7494aff87bfc",
   "metadata": {
    "tags": []
   },
   "outputs": [],
   "source": [
    "z = np.array([0,0,1])\n",
    "nv111 = np.array([1,1,1])/np.linalg.norm(np.array([1,1,1]))\n",
    "nv1b1b1 = np.array([1,-1,-1])/np.linalg.norm(np.array([1,-1,-1]))\n",
    "nvb11b1 = np.array([-1, 1, -1])/np.linalg.norm(np.array([-1,1,-1]))\n",
    "nvb1b11 = np.array([-1, -1, 1])/np.linalg.norm(np.array([-1,-1,1]))\n",
    "\n",
    "nv_orientations = [nv111, nv1b1b1, nvb11b1, nvb1b11]"
   ]
  },
  {
   "cell_type": "code",
   "execution_count": 19,
   "id": "2c519a07-4dcb-45c8-8658-fa98b46678e7",
   "metadata": {
    "tags": []
   },
   "outputs": [],
   "source": [
    "B_nv111_axis_in_lab_frame = 100e-4*np.array([1,1,1])/np.linalg.norm(np.array([1,1,1]))"
   ]
  },
  {
   "cell_type": "code",
   "execution_count": 20,
   "id": "82e389c6-f572-4fe0-894e-4fce082837bc",
   "metadata": {
    "tags": []
   },
   "outputs": [
    {
     "data": {
      "text/plain": [
       "array([[ 0.78867513, -0.21132487, -0.57735027],\n",
       "       [-0.21132487,  0.78867513, -0.57735027],\n",
       "       [ 0.57735027,  0.57735027,  0.57735027]])"
      ]
     },
     "execution_count": 20,
     "metadata": {},
     "output_type": "execute_result"
    }
   ],
   "source": [
    "# Demonstrate our rotation matrices\n",
    "nvmodels.utilities.rotation_matrix_from_vectors(nv111,z)"
   ]
  },
  {
   "cell_type": "code",
   "execution_count": 21,
   "id": "b6f79dcc-ebe6-4f37-ba99-379d21e0eb7c",
   "metadata": {
    "tags": []
   },
   "outputs": [
    {
     "data": {
      "text/plain": [
       "array([-0.57735027, -0.57735027,  0.57735027])"
      ]
     },
     "execution_count": 21,
     "metadata": {},
     "output_type": "execute_result"
    }
   ],
   "source": [
    "nvmodels.utilities.lab_to_nv_orientation(z, nv111)# a z-vector in the lab frame represened in the nv111 frame"
   ]
  },
  {
   "cell_type": "code",
   "execution_count": 22,
   "id": "98a87362-685b-45d7-9f9c-c07eeb5aec33",
   "metadata": {
    "tags": []
   },
   "outputs": [
    {
     "data": {
      "text/plain": [
       "array([-5.55111512e-17, -5.55111512e-17,  1.00000000e+00])"
      ]
     },
     "execution_count": 22,
     "metadata": {},
     "output_type": "execute_result"
    }
   ],
   "source": [
    "nvmodels.utilities.lab_to_nv_orientation(nv111, nv111)"
   ]
  },
  {
   "cell_type": "code",
   "execution_count": 23,
   "id": "055714ca-c234-4786-b371-a3129f5b0dfb",
   "metadata": {},
   "outputs": [
    {
     "data": {
      "text/plain": [
       "array([-4.33680869e-19, -4.33680869e-19,  1.00000000e-02])"
      ]
     },
     "execution_count": 23,
     "metadata": {},
     "output_type": "execute_result"
    }
   ],
   "source": [
    "nvmodels.utilities.lab_to_nv_orientation(B_nv111_axis_in_lab_frame, nv111) # rotate to nv111 axis -- B should be entirely along Z"
   ]
  },
  {
   "cell_type": "code",
   "execution_count": 24,
   "id": "6d984ce8-851a-4243-8013-f9fda144db11",
   "metadata": {
    "tags": []
   },
   "outputs": [
    {
     "data": {
      "text/plain": [
       "array([ 0.00666667,  0.00666667, -0.00333333])"
      ]
     },
     "execution_count": 24,
     "metadata": {},
     "output_type": "execute_result"
    }
   ],
   "source": [
    "nvmodels.utilities.lab_to_nv_orientation(B_nv111_axis_in_lab_frame, nvb1b11) #  rotate to nvb1b11 axis"
   ]
  },
  {
   "cell_type": "markdown",
   "id": "128893ad-f2c4-45ba-a07e-fa6a4a2415ef",
   "metadata": {},
   "source": [
    "### B field aligned along 111\n",
    "\n",
    "Using the B field aligned along 111, what should our ODMR spectrum look like?"
   ]
  },
  {
   "cell_type": "code",
   "execution_count": 25,
   "id": "621ffbdb-1f04-4389-b906-cec42e9c770c",
   "metadata": {
    "tags": []
   },
   "outputs": [],
   "source": [
    "energy_transitions = []\n",
    "contrasts = []\n",
    "rf_freq = np.arange(2.0e9, 3.5e9, 1e6)\n",
    "lorentz_width = 10e6\n",
    "contrast_amp = -0.01\n",
    "\n",
    "for nv_orient in nv_orientations:\n",
    "    h = nv.zero_field_hamiltonian()\n",
    "    h += nv.nitrogen_hyperfine_hamiltonian()\n",
    "    h += nv.nitrogen_electric_quadrupole_hamiltonian()\n",
    "\n",
    "    B = nvmodels.utilities.lab_to_nv_orientation(B_nv111_axis_in_lab_frame, nv_orient)\n",
    "\n",
    "    h += nv.static_mag_field_hamiltonian(B, include_nucleus = True)\n",
    "    energy_transitions += nv.electron_spin_resonances(h)\n",
    "    contrasts.append(np.array([nvmodels.utilities.lorentzian(rf_freq, e, contrast_amp, lorentz_width) for e in energy_transitions]).sum(axis=0))\n",
    "    \n",
    "full_spectrum = 1 + np.array(contrasts).sum(axis=0)"
   ]
  },
  {
   "cell_type": "code",
   "execution_count": 26,
   "id": "be6d9ef4-3632-44c1-867a-f095d4a24bd5",
   "metadata": {
    "tags": []
   },
   "outputs": [
    {
     "data": {
      "text/plain": [
       "[<matplotlib.lines.Line2D at 0x7f8623116320>]"
      ]
     },
     "execution_count": 26,
     "metadata": {},
     "output_type": "execute_result"
    },
    {
     "data": {
      "image/png": "[encoded data removed]",
      "text/plain": [
       "<Figure size 640x480 with 1 Axes>"
      ]
     },
     "metadata": {},
     "output_type": "display_data"
    }
   ],
   "source": [
    "fix,ax = plt.subplots()\n",
    "plt.plot(rf_freq, full_spectrum)"
   ]
  },
  {
   "cell_type": "markdown",
   "id": "4f8bb623-d45b-4080-b350-37cd5ebc93f1",
   "metadata": {},
   "source": [
    "### Arbitrary B field direction.\n",
    "\n",
    "Through trial and error, found a B field that ensures we see all splittings"
   ]
  },
  {
   "cell_type": "code",
   "execution_count": 27,
   "id": "0066de3f-0012-402c-8bfc-9543e51290aa",
   "metadata": {
    "tags": []
   },
   "outputs": [],
   "source": [
    "energy_transitions = []\n",
    "contrasts = []\n",
    "# high res\n",
    "rf_freq = np.arange(2.6e9, 3.15e9, .025e6)\n",
    "lorentz_width = .5e6\n",
    "contrast_amp = -0.01\n",
    "\n",
    "# low res\n",
    "# rf_freq = np.arange(2.0e9, 3.5e9, 1e6)\n",
    "# lorentz_width = 10e6\n",
    "# contrast_amp = -0.01\n",
    "\n",
    "v = np.array([.2,-.5,1]) #choose the direction of the B field\n",
    "\n",
    "B_in_lab_frame = 100e-4*v/np.linalg.norm(v)\n",
    "\n",
    "for nv_orient in nv_orientations:\n",
    "    h = nv.zero_field_hamiltonian()\n",
    "    h += nv.nitrogen_hyperfine_hamiltonian()\n",
    "    h += nv.nitrogen_electric_quadrupole_hamiltonian()\n",
    "\n",
    "    B = nvmodels.utilities.lab_to_nv_orientation(B_in_lab_frame, nv_orient)\n",
    "\n",
    "    h += nv.static_mag_field_hamiltonian(B, include_nucleus = True)\n",
    "    energy_transitions += nv.electron_spin_resonances(h)\n",
    "    contrasts.append(np.array([nvmodels.utilities.lorentzian(rf_freq, e, contrast_amp, lorentz_width) for e in energy_transitions]).sum(axis=0))\n",
    "    \n",
    "full_spectrum = 1 + np.array(contrasts).sum(axis=0)"
   ]
  },
  {
   "cell_type": "code",
   "execution_count": 28,
   "id": "76abe4e9-ad5a-48a6-ad11-ae375f8c137a",
   "metadata": {
    "tags": []
   },
   "outputs": [
    {
     "data": {
      "text/plain": [
       "[<matplotlib.lines.Line2D at 0x7f8622f81a20>]"
      ]
     },
     "execution_count": 28,
     "metadata": {},
     "output_type": "execute_result"
    },
    {
     "data": {
      "image/png": "[encoded data removed]",
      "text/plain": [
       "<Figure size 1000x400 with 1 Axes>"
      ]
     },
     "metadata": {},
     "output_type": "display_data"
    }
   ],
   "source": [
    "fix,ax = plt.subplots(figsize=(10,4))\n",
    "plt.plot(rf_freq, full_spectrum)"
   ]
  },
  {
   "cell_type": "code",
   "execution_count": null,
   "id": "96b102aa-de19-464c-9fbd-c3b5a37dccb9",
   "metadata": {},
   "outputs": [],
   "source": []
  }
 ],
 "metadata": {
  "kernelspec": {
   "display_name": "Python 3 (ipykernel)",
   "language": "python",
   "name": "python3"
  },
  "language_info": {
   "codemirror_mode": {
    "name": "ipython",
    "version": 3
   },
   "file_extension": ".py",
   "mimetype": "text/x-python",
   "name": "python",
   "nbconvert_exporter": "python",
   "pygments_lexer": "ipython3",
   "version": "3.10.9"
  }
 },
 "nbformat": 4,
 "nbformat_minor": 5
}
